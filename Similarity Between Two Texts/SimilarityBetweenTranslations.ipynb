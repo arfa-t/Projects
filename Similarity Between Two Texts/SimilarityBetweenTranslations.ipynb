{
  "nbformat": 4,
  "nbformat_minor": 0,
  "metadata": {
    "colab": {
      "name": "NLP_Project_Bia_Chaudhry_184055_SimilarityBetweenDocuments",
      "provenance": [],
      "collapsed_sections": []
    },
    "kernelspec": {
      "name": "python3",
      "display_name": "Python 3",
      "language": "python"
    }
  },
  "cells": [
    {
      "cell_type": "markdown",
      "metadata": {
        "id": "U8e4LVEq8ysm",
        "colab_type": "text"
      },
      "source": [
        "# Installing packages and Importing Libraries"
      ]
    },
    {
      "cell_type": "code",
      "metadata": {
        "id": "P_02svW-oxC5",
        "colab_type": "code",
        "outputId": "7eaa48b6-f229-465f-8a1d-2ca44e4f7ee9",
        "colab": {
          "base_uri": "https://localhost:8080/",
          "height": 34
        }
      },
      "source": [
        "!pip install beautifulsoup4"
      ],
      "execution_count": 6,
      "outputs": [
        {
          "output_type": "stream",
          "name": "stdout",
          "text": [
            "Requirement already satisfied: beautifulsoup4 in c:\\users\\administrator\\anaconda3\\lib\\site-packages (4.8.2)\nRequirement already satisfied: soupsieve>=1.2 in c:\\users\\administrator\\anaconda3\\lib\\site-packages (from beautifulsoup4) (1.9.5)\n"
          ]
        }
      ]
    },
    {
      "cell_type": "code",
      "metadata": {
        "id": "Lc_KTcV6o0ne",
        "colab_type": "code",
        "outputId": "c3f74de5-e1b8-4a1e-d673-73c09e8755a7",
        "colab": {
          "base_uri": "https://localhost:8080/",
          "height": 34
        }
      },
      "source": [
        "!pip install lxml"
      ],
      "execution_count": 7,
      "outputs": [
        {
          "output_type": "stream",
          "name": "stdout",
          "text": [
            "Requirement already satisfied: lxml in c:\\users\\administrator\\anaconda3\\lib\\site-packages (4.5.0)\n"
          ]
        }
      ]
    },
    {
      "cell_type": "code",
      "execution_count": null,
      "metadata": {},
      "outputs": [],
      "source": [
        "import bs4 as bs\n",
        "import urllib.request\n",
        "import re\n",
        "import nltk, string, numpy as np\n",
        "#nltk.download('wordnet') # first-time use only\n",
        "#nltk.download('punkt')\n",
        "from sklearn.feature_extraction.text import CountVectorizer\n",
        "from sklearn.feature_extraction.text import TfidfTransformer\n",
        "import math\n",
        "import pandas as pd\n",
        "import networkx as nx\n",
        "from networkx.generators.small import krackhardt_kite_graph\n",
        "from string import ascii_lowercase"
      ]
    },
    {
      "cell_type": "markdown",
      "metadata": {
        "id": "cZ5zF4_X9BkG",
        "colab_type": "text"
      },
      "source": [
        "### Select two different English translations of the Quran, of the same Surah "
      ]
    },
    {
      "cell_type": "code",
      "metadata": {
        "id": "OWbBMhpbo5OQ",
        "colab_type": "code",
        "colab": {}
      },
      "source": [
        "def abstractExtracter(url_to_go):\n",
        "  scraped_data = urllib.request.urlopen(url_to_go)\n",
        "  article = scraped_data.read()\n",
        "\n",
        "  parsed_article = bs.BeautifulSoup(article,'lxml')\n",
        "\n",
        "  paragraphs = parsed_article.find_all(id='p-2')\n",
        "\n",
        "  article_text = \"\"\n",
        "\n",
        "  for p in paragraphs:\n",
        "      article_text += p.text\n",
        "  return article_text\n",
        "\n",
        "\n",
        "# here are two translations of the same part of a Surah, each by a different translator\n",
        "#By  Shakir\n",
        "abstract1 =  \"In the name of Allah, the Beneficent, the Merciful .All praise is due to Allah, the Lord of the Worlds.The Beneficent, the Merciful. Master of the Day of Judgment. Thee do we serve and Thee do we beseech for help. Keep us on the right path. The path of those upon whom Thou hast bestowed favors. Not (the path) of those upon whom Thy wrath is brought down, nor of those who go astray. Alif Lam Mim.This Book, there is no doubt in it, is a guide to those who guard (against evil). Those who believe in the unseen and keep up prayer and spend out of what We have given them. And who believe in that which has been revealed to you and that which was revealed before you and they are sure of the hereafter. These are on a right course from their Lord and these it is that shall be successful. Surely those who disbelieve, it being alike to them whether you warn them, or do not warn them, will not believe.Allah has set a seal upon their hearts and upon their hearing and there is a covering over their eyes, and there is a great punishment for them. And there are some people who say: We believe in Allah and the last day; and they are not at all believers. They desire to deceive Allah and those who believe, and they deceive only themselves and they do not perceive. There is a disease in their hearts, so Allah added to their disease and they shall have a painful chastisement because they lied. And when it is said to them, Do not make mischief in the land, they say: We are but peace-makers. Now surely they themselves are the mischief makers, but they do not perceive. And when it is said to them: Believe as the people believe, they say: Shall we believe as the fools believe? Now surely they themselves are the fools, but they do not know. And when they meet those who believe, they say: We believe; and when they are alone with their Shaitans, they say: Surely we are with you, we were only mocking. Allah shall pay them back their mockery, and He leaves them alone in their inordinacy, blindly wandering on. These are they who buy error for the right direction, so their bargain shall bring no gain, nor are they the followers of the right direction. Their parable is like the parable of one who kindled a fire, but when it had illumined all around him, Allah took away their light, and left them in utter darkness-- they do not see. Deaf, dumb (and) blind, so they will not turn back\"\n",
        "\n",
        "# By Sarwar\n",
        "abstract2 = \"In the Name of Allah, the Beneficent, the Merciful. All praise belongs to God, Lord of the Universe,the Beneficent, the Merciful and Master of the Day of Judgment (Lord), You alone We do worship and from You alone we do seek assistance (Lord), guide us to the right path, the path of those to whom You have granted blessings, those who are neither subject to Your anger nor have gone astray. Alif. Lam. Mim. There is no doubt that this book is a guide for the pious; the pious who believe in the unseen, attend to prayer, give in charity part of what We have granted them; who have faith in what has been revealed to you and others before you and have strong faith in the life hereafter. It is the pious who follow the guidance of their Lord and gain lasting happiness. Those who deny your message will not believe whether you warn them or not. God has sealed their hearts and hearing and their vision is veiled; a great punishment awaits them. Some people say, We believe in God and the Day of Judgment, but they are not true believers. They deceive God and the believers. However, they have deceived no one but themselves, a fact of which they are not aware. A sickness exists in their hearts to which God adds more sickness. Besides this, they will suffer a painful punishment as a result of the lie which they speak.When they are told not to commit corruption in the land, they reply, We are only reformers. They, certainly, are corrupt but do not realize it. When they are told to believe as everyone else does, they say, Should we believe as fools do? In fact, they themselves are fools, but they do not know it. To the believers they declare belief and, in secret to their own devils, they say, We were only mocking. God mocks them and gives them time to continue blindly in their transgressions. They have traded guidance for error, but their bargain has had no profit and they have missed the true guidance. (Their case) is like that of one who kindles a fire and when it grows bright God takes away its light leaving him in darkness (wherein) he cannot see (anything). They are deaf, blind, and dumb and cannot regain their senses.\"\n",
        "\n",
        "\n"
      ],
      "execution_count": 5,
      "outputs": []
    },
    {
      "cell_type": "code",
      "metadata": {
        "id": "FEPjgnvFp9UN",
        "colab_type": "code",
        "outputId": "62c82986-ca82-4bc3-8645-766b0fa2e811",
        "colab": {
          "base_uri": "https://localhost:8080/",
          "height": 700
        }
      },
      "source": [
        "print('ABSTRACT # 1: ', abstract1)\n",
        "\n",
        "print('\\n-----------\\n')\n",
        "\n",
        "print('ABSTRACT # 2: ',abstract2)\n",
        "\n",
        "print('\\n-----------\\n')\n",
        "\n"
      ],
      "execution_count": 6,
      "outputs": [
        {
          "output_type": "stream",
          "name": "stdout",
          "text": [
            "ABSTRACT # 1:  In the name of Allah, the Beneficent, the Merciful .All praise is due to Allah, the Lord of the Worlds.The Beneficent, the Merciful. Master of the Day of Judgment. Thee do we serve and Thee do we beseech for help. Keep us on the right path. The path of those upon whom Thou hast bestowed favors. Not (the path) of those upon whom Thy wrath is brought down, nor of those who go astray. Alif Lam Mim.This Book, there is no doubt in it, is a guide to those who guard (against evil). Those who believe in the unseen and keep up prayer and spend out of what We have given them. And who believe in that which has been revealed to you and that which was revealed before you and they are sure of the hereafter. These are on a right course from their Lord and these it is that shall be successful. Surely those who disbelieve, it being alike to them whether you warn them, or do not warn them, will not believe.Allah has set a seal upon their hearts and upon their hearing and there is a covering over their eyes, and there is a great punishment for them. And there are some people who say: We believe in Allah and the last day; and they are not at all believers. They desire to deceive Allah and those who believe, and they deceive only themselves and they do not perceive. There is a disease in their hearts, so Allah added to their disease and they shall have a painful chastisement because they lied. And when it is said to them, Do not make mischief in the land, they say: We are but peace-makers. Now surely they themselves are the mischief makers, but they do not perceive. And when it is said to them: Believe as the people believe, they say: Shall we believe as the fools believe? Now surely they themselves are the fools, but they do not know. And when they meet those who believe, they say: We believe; and when they are alone with their Shaitans, they say: Surely we are with you, we were only mocking. Allah shall pay them back their mockery, and He leaves them alone in their inordinacy, blindly wandering on. These are they who buy error for the right direction, so their bargain shall bring no gain, nor are they the followers of the right direction. Their parable is like the parable of one who kindled a fire, but when it had illumined all around him, Allah took away their light, and left them in utter darkness-- they do not see. Deaf, dumb (and) blind, so they will not turn back\n\n-----------\n\nABSTRACT # 2:  In the Name of Allah, the Beneficent, the Merciful. All praise belongs to God, Lord of the Universe,the Beneficent, the Merciful and Master of the Day of Judgment (Lord), You alone We do worship and from You alone we do seek assistance (Lord), guide us to the right path, the path of those to whom You have granted blessings, those who are neither subject to Your anger nor have gone astray. Alif. Lam. Mim. There is no doubt that this book is a guide for the pious; the pious who believe in the unseen, attend to prayer, give in charity part of what We have granted them; who have faith in what has been revealed to you and others before you and have strong faith in the life hereafter. It is the pious who follow the guidance of their Lord and gain lasting happiness. Those who deny your message will not believe whether you warn them or not. God has sealed their hearts and hearing and their vision is veiled; a great punishment awaits them. Some people say, We believe in God and the Day of Judgment, but they are not true believers. They deceive God and the believers. However, they have deceived no one but themselves, a fact of which they are not aware. A sickness exists in their hearts to which God adds more sickness. Besides this, they will suffer a painful punishment as a result of the lie which they speak.When they are told not to commit corruption in the land, they reply, We are only reformers. They, certainly, are corrupt but do not realize it. When they are told to believe as everyone else does, they say, Should we believe as fools do? In fact, they themselves are fools, but they do not know it. To the believers they declare belief and, in secret to their own devils, they say, We were only mocking. God mocks them and gives them time to continue blindly in their transgressions. They have traded guidance for error, but their bargain has had no profit and they have missed the true guidance. (Their case) is like that of one who kindles a fire and when it grows bright God takes away its light leaving him in darkness (wherein) he cannot see (anything). They are deaf, blind, and dumb and cannot regain their senses.\n\n-----------\n\n"
          ]
        }
      ]
    },
    {
      "cell_type": "code",
      "metadata": {
        "id": "g4gPfx5ebzuc",
        "colab_type": "code",
        "colab": {}
      },
      "source": [
        "d1 = abstract1\n",
        "d2 = abstract2\n",
        "documents = [d1, d2]"
      ],
      "execution_count": 7,
      "outputs": []
    },
    {
      "cell_type": "markdown",
      "metadata": {
        "id": "K7LwtBAG9ZNR",
        "colab_type": "text"
      },
      "source": [
        "# Data Preprocessing"
      ]
    },
    {
      "cell_type": "code",
      "metadata": {
        "id": "xs3ugcFNb8xX",
        "colab_type": "code",
        "colab": {}
      },
      "source": [
        "lemmer = nltk.stem.WordNetLemmatizer()\n",
        "def LemTokens(tokens):\n",
        "    return [lemmer.lemmatize(token) for token in tokens]\n",
        "remove_punct_dict = dict((ord(punct), None) for punct in string.punctuation)\n",
        "def LemNormalize(text):\n",
        "    return LemTokens(nltk.word_tokenize(text.lower().translate(remove_punct_dict)))"
      ],
      "execution_count": 8,
      "outputs": []
    },
    {
      "cell_type": "code",
      "metadata": {
        "id": "gNAXftYucCut",
        "colab_type": "code",
        "outputId": "9c2ece10-ad06-48b4-98c9-03e1d69e4de5",
        "colab": {
          "base_uri": "https://localhost:8080/",
          "height": 105
        }
      },
      "source": [
        "LemVectorizer = CountVectorizer(tokenizer=LemNormalize, stop_words='english')\n",
        "LemVectorizer.fit_transform(documents)"
      ],
      "execution_count": 9,
      "outputs": [
        {
          "output_type": "execute_result",
          "data": {
            "text/plain": [
              "<2x172 sparse matrix of type '<class 'numpy.int64'>'\n",
              "\twith 219 stored elements in Compressed Sparse Row format>"
            ]
          },
          "metadata": {},
          "execution_count": 9
        }
      ]
    },
    {
      "cell_type": "code",
      "metadata": {
        "id": "vRlbihfrcGB6",
        "colab_type": "code",
        "outputId": "189fba43-82a3-4c09-8d5a-fa593622a9ee",
        "colab": {
          "base_uri": "https://localhost:8080/",
          "height": 9265
        }
      },
      "source": [
        "LemVectorizer.vocabulary_"
      ],
      "execution_count": 10,
      "outputs": [
        {
          "output_type": "execute_result",
          "data": {
            "text/plain": [
              "{'allah': 4,\n",
              " 'beneficent': 18,\n",
              " 'merciful': 102,\n",
              " 'praise': 119,\n",
              " 'lord': 97,\n",
              " 'worldsthe': 169,\n",
              " 'master': 100,\n",
              " 'day': 40,\n",
              " 'judgment': 82,\n",
              " 'thee': 150,\n",
              " 'serve': 137,\n",
              " 'beseech': 19,\n",
              " 'help': 79,\n",
              " 'u': 160,\n",
              " 'right': 129,\n",
              " 'path': 113,\n",
              " 'thou': 151,\n",
              " 'hast': 76,\n",
              " 'bestowed': 20,\n",
              " 'favor': 60,\n",
              " 'thy': 152,\n",
              " 'wrath': 171,\n",
              " 'brought': 27,\n",
              " 'astray': 7,\n",
              " 'alif': 2,\n",
              " 'lam': 86,\n",
              " 'mimthis': 105,\n",
              " 'book': 24,\n",
              " 'doubt': 52,\n",
              " 'guide': 73,\n",
              " 'guard': 71,\n",
              " 'evil': 55,\n",
              " 'believe': 14,\n",
              " 'unseen': 162,\n",
              " 'prayer': 120,\n",
              " 'spend': 143,\n",
              " 'given': 65,\n",
              " 'ha': 74,\n",
              " 'revealed': 128,\n",
              " 'wa': 166,\n",
              " 'sure': 148,\n",
              " 'course': 37,\n",
              " 'shall': 140,\n",
              " 'successful': 146,\n",
              " 'surely': 149,\n",
              " 'disbelieve': 49,\n",
              " 'alike': 3,\n",
              " 'warn': 168,\n",
              " 'believeallah': 15,\n",
              " 'set': 138,\n",
              " 'seal': 132,\n",
              " 'heart': 78,\n",
              " 'hearing': 77,\n",
              " 'covering': 38,\n",
              " 'eye': 57,\n",
              " 'great': 69,\n",
              " 'punishment': 122,\n",
              " 'people': 116,\n",
              " 'say': 131,\n",
              " 'believer': 16,\n",
              " 'desire': 46,\n",
              " 'deceive': 42,\n",
              " 'perceive': 117,\n",
              " 'disease': 50,\n",
              " 'added': 1,\n",
              " 'painful': 111,\n",
              " 'chastisement': 32,\n",
              " 'lied': 93,\n",
              " 'said': 130,\n",
              " 'make': 98,\n",
              " 'mischief': 106,\n",
              " 'land': 87,\n",
              " 'peacemaker': 115,\n",
              " 'maker': 99,\n",
              " 'fool': 63,\n",
              " 'know': 85,\n",
              " 'meet': 101,\n",
              " 'shaitan': 139,\n",
              " 'mocking': 110,\n",
              " 'pay': 114,\n",
              " 'mockery': 109,\n",
              " 'leaf': 89,\n",
              " 'inordinacy': 81,\n",
              " 'blindly': 23,\n",
              " 'wandering': 167,\n",
              " 'buy': 28,\n",
              " 'error': 54,\n",
              " 'direction': 48,\n",
              " 'bargain': 12,\n",
              " 'bring': 26,\n",
              " 'gain': 64,\n",
              " 'follower': 62,\n",
              " 'parable': 112,\n",
              " 'like': 96,\n",
              " 'kindled': 83,\n",
              " 'illumined': 80,\n",
              " 'took': 155,\n",
              " 'away': 11,\n",
              " 'light': 95,\n",
              " 'left': 91,\n",
              " 'utter': 163,\n",
              " 'darkness': 39,\n",
              " 'deaf': 41,\n",
              " 'dumb': 53,\n",
              " 'blind': 22,\n",
              " 'turn': 159,\n",
              " 'belongs': 17,\n",
              " 'god': 66,\n",
              " 'universethe': 161,\n",
              " 'worship': 170,\n",
              " 'seek': 135,\n",
              " 'assistance': 6,\n",
              " 'granted': 68,\n",
              " 'blessing': 21,\n",
              " 'subject': 145,\n",
              " 'anger': 5,\n",
              " 'gone': 67,\n",
              " 'mim': 104,\n",
              " 'pious': 118,\n",
              " 'attend': 8,\n",
              " 'charity': 31,\n",
              " 'faith': 59,\n",
              " 'strong': 144,\n",
              " 'life': 94,\n",
              " 'follow': 61,\n",
              " 'guidance': 72,\n",
              " 'lasting': 88,\n",
              " 'happiness': 75,\n",
              " 'deny': 45,\n",
              " 'message': 103,\n",
              " 'sealed': 133,\n",
              " 'vision': 165,\n",
              " 'veiled': 164,\n",
              " 'awaits': 9,\n",
              " 'true': 158,\n",
              " 'deceived': 43,\n",
              " 'fact': 58,\n",
              " 'aware': 10,\n",
              " 'sickness': 141,\n",
              " 'exists': 56,\n",
              " 'add': 0,\n",
              " 'suffer': 147,\n",
              " 'result': 127,\n",
              " 'lie': 92,\n",
              " 'speakwhen': 142,\n",
              " 'told': 154,\n",
              " 'commit': 33,\n",
              " 'corruption': 36,\n",
              " 'reply': 126,\n",
              " 'reformer': 124,\n",
              " 'certainly': 30,\n",
              " 'corrupt': 35,\n",
              " 'realize': 123,\n",
              " 'doe': 51,\n",
              " 'declare': 44,\n",
              " 'belief': 13,\n",
              " 'secret': 134,\n",
              " 'devil': 47,\n",
              " 'mock': 108,\n",
              " 'time': 153,\n",
              " 'continue': 34,\n",
              " 'transgression': 157,\n",
              " 'traded': 156,\n",
              " 'profit': 121,\n",
              " 'missed': 107,\n",
              " 'case': 29,\n",
              " 'kindles': 84,\n",
              " 'grows': 70,\n",
              " 'bright': 25,\n",
              " 'leaving': 90,\n",
              " 'regain': 125,\n",
              " 'sens': 136}"
            ]
          },
          "metadata": {},
          "execution_count": 10
        }
      ]
    },
    {
      "cell_type": "markdown",
      "metadata": {
        "id": "4sT1TWEz9isW",
        "colab_type": "text"
      },
      "source": [
        "# TF_IDF Calculations"
      ]
    },
    {
      "cell_type": "code",
      "metadata": {
        "id": "0-ujeGArcNrQ",
        "colab_type": "code",
        "outputId": "3921106e-ba16-431f-86a0-53f9af7d8b7c",
        "colab": {
          "base_uri": "https://localhost:8080/",
          "height": 136
        }
      },
      "source": [
        "tf_matrix = LemVectorizer.transform(documents).toarray()\n",
        "print (tf_matrix)"
      ],
      "execution_count": 11,
      "outputs": [
        {
          "output_type": "stream",
          "name": "stdout",
          "text": [
            "[[ 0  1  1  1  7  0  0  1  0  0  0  1  1  0 10  1  1  0  2  1  1  0  1  1\n   1  0  1  1  1  0  0  0  1  0  0  0  0  1  1  1  2  1  2  0  0  0  1  0\n   2  1  2  0  1  1  1  1  0  1  0  0  1  0  1  2  1  1  0  0  0  1  0  1\n   0  1  2  0  1  1  2  1  1  1  1  1  0  1  1  1  0  1  0  1  0  1  0  1\n   1  2  1  1  1  1  2  0  0  1  2  0  0  1  1  1  2  3  1  1  2  2  0  1\n   1  0  1  0  0  0  0  0  2  4  2  5  1  0  0  0  0  1  1  1  5  0  0  1\n   0  0  1  0  1  4  2  1  1  0  0  1  0  0  0  1  1  0  1  1  0  0  1  1\n   2  1  0  1]\n [ 1  0  1  0  1  1  1  1  1  1  1  1  1  1  5  0  3  1  2  0  0  1  1  1\n   1  1  0  0  0  1  1  1  0  1  1  1  1  0  0  1  2  1  1  1  1  1  0  1\n   0  0  0  1  1  1  1  0  1  0  2  2  0  1  0  2  1  0  7  1  2  1  1  0\n   3  2  3  1  0  1  2  0  0  0  2  0  1  1  1  1  1  0  1  0  1  0  1  1\n   1  4  0  0  1  0  2  1  1  0  0  1  1  0  1  1  0  2  0  0  1  0  3  1\n   1  1  2  1  1  1  1  1  1  1  0  3  0  1  1  1  1  0  0  0  0  2  1  0\n   1  1  0  1  0  0  0  0  0  1  2  0  1  1  2  0  1  1  1  0  1  1  0  0\n   1  0  1  0]]\n"
          ]
        }
      ]
    },
    {
      "cell_type": "code",
      "metadata": {
        "id": "5OUjkNUZcUew",
        "colab_type": "code",
        "outputId": "e27ba224-4201-4df8-eac3-e3994c7c4e37",
        "colab": {
          "base_uri": "https://localhost:8080/",
          "height": 34
        }
      },
      "source": [
        "tf_matrix.shape"
      ],
      "execution_count": 12,
      "outputs": [
        {
          "output_type": "execute_result",
          "data": {
            "text/plain": [
              "(2, 172)"
            ]
          },
          "metadata": {},
          "execution_count": 12
        }
      ]
    },
    {
      "cell_type": "code",
      "metadata": {
        "id": "vHdzdt9fcXik",
        "colab_type": "code",
        "outputId": "c4ce6589-5640-486e-8b38-6d7df589b67e",
        "colab": {
          "base_uri": "https://localhost:8080/",
          "height": 1564
        }
      },
      "source": [
        "tfidfTran = TfidfTransformer(norm=\"l2\")\n",
        "tfidfTran.fit(tf_matrix)\n",
        "print (tfidfTran.idf_)"
      ],
      "execution_count": 13,
      "outputs": [
        {
          "output_type": "stream",
          "name": "stdout",
          "text": [
            "[1.40546511 1.40546511 1.         1.40546511 1.         1.40546511\n 1.40546511 1.         1.40546511 1.40546511 1.40546511 1.\n 1.         1.40546511 1.         1.40546511 1.         1.40546511\n 1.         1.40546511 1.40546511 1.40546511 1.         1.\n 1.         1.40546511 1.40546511 1.40546511 1.40546511 1.40546511\n 1.40546511 1.40546511 1.40546511 1.40546511 1.40546511 1.40546511\n 1.40546511 1.40546511 1.40546511 1.         1.         1.\n 1.         1.40546511 1.40546511 1.40546511 1.40546511 1.40546511\n 1.40546511 1.40546511 1.40546511 1.40546511 1.         1.\n 1.         1.40546511 1.40546511 1.40546511 1.40546511 1.40546511\n 1.40546511 1.40546511 1.40546511 1.         1.         1.40546511\n 1.40546511 1.40546511 1.40546511 1.         1.40546511 1.40546511\n 1.40546511 1.         1.         1.40546511 1.40546511 1.\n 1.         1.40546511 1.40546511 1.40546511 1.         1.40546511\n 1.40546511 1.         1.         1.         1.40546511 1.40546511\n 1.40546511 1.40546511 1.40546511 1.40546511 1.40546511 1.\n 1.         1.         1.40546511 1.40546511 1.         1.40546511\n 1.         1.40546511 1.40546511 1.40546511 1.40546511 1.40546511\n 1.40546511 1.40546511 1.         1.         1.40546511 1.\n 1.40546511 1.40546511 1.         1.40546511 1.40546511 1.\n 1.         1.40546511 1.         1.40546511 1.40546511 1.40546511\n 1.40546511 1.40546511 1.         1.         1.40546511 1.\n 1.40546511 1.40546511 1.40546511 1.40546511 1.40546511 1.40546511\n 1.40546511 1.40546511 1.40546511 1.40546511 1.40546511 1.40546511\n 1.40546511 1.40546511 1.40546511 1.40546511 1.40546511 1.40546511\n 1.40546511 1.40546511 1.40546511 1.40546511 1.40546511 1.40546511\n 1.40546511 1.40546511 1.40546511 1.40546511 1.         1.40546511\n 1.         1.40546511 1.40546511 1.40546511 1.40546511 1.40546511\n 1.         1.40546511 1.40546511 1.40546511]\n"
          ]
        }
      ]
    },
    {
      "cell_type": "code",
      "metadata": {
        "id": "Y9mWScxBcb6S",
        "colab_type": "code",
        "outputId": "e867e2db-2792-4389-fba0-8feaf857c1a2",
        "colab": {
          "base_uri": "https://localhost:8080/",
          "height": 51
        }
      },
      "source": [
        "def idf(n,df):\n",
        "    result = math.log((n+1.0)/(df+1.0)) + 1\n",
        "    return result\n",
        "print( \"The idf for terms that appear in one document: \" + str(idf(4,1)))\n",
        "print( \"The idf for terms that appear in two documents: \" + str(idf(4,2)))"
      ],
      "execution_count": 14,
      "outputs": [
        {
          "output_type": "stream",
          "name": "stdout",
          "text": [
            "The idf for terms that appear in one document: 1.916290731874155\nThe idf for terms that appear in two documents: 1.5108256237659907\n"
          ]
        }
      ]
    },
    {
      "cell_type": "code",
      "metadata": {
        "id": "vr019Vnpck6S",
        "colab_type": "code",
        "outputId": "3a0c878d-7f85-45e0-f608-ac63aab4f528",
        "colab": {
          "base_uri": "https://localhost:8080/",
          "height": 136
        }
      },
      "source": [
        "tfidf_matrix = tfidfTran.transform(tf_matrix)\n",
        "print (tfidf_matrix.toarray())"
      ],
      "execution_count": 15,
      "outputs": [
        {
          "output_type": "stream",
          "name": "stdout",
          "text": [
            "[[0.         0.0622922  0.04432141 0.0622922  0.31024988 0.\n  0.         0.04432141 0.         0.         0.         0.04432141\n  0.04432141 0.         0.44321411 0.0622922  0.04432141 0.\n  0.08864282 0.0622922  0.0622922  0.         0.04432141 0.04432141\n  0.04432141 0.         0.0622922  0.0622922  0.0622922  0.\n  0.         0.         0.0622922  0.         0.         0.\n  0.         0.0622922  0.0622922  0.04432141 0.08864282 0.04432141\n  0.08864282 0.         0.         0.         0.0622922  0.\n  0.12458439 0.0622922  0.12458439 0.         0.04432141 0.04432141\n  0.04432141 0.0622922  0.         0.0622922  0.         0.\n  0.0622922  0.         0.0622922  0.08864282 0.04432141 0.0622922\n  0.         0.         0.         0.04432141 0.         0.0622922\n  0.         0.04432141 0.08864282 0.         0.0622922  0.04432141\n  0.08864282 0.0622922  0.0622922  0.0622922  0.04432141 0.0622922\n  0.         0.04432141 0.04432141 0.04432141 0.         0.0622922\n  0.         0.0622922  0.         0.0622922  0.         0.04432141\n  0.04432141 0.08864282 0.0622922  0.0622922  0.04432141 0.0622922\n  0.08864282 0.         0.         0.0622922  0.12458439 0.\n  0.         0.0622922  0.04432141 0.04432141 0.12458439 0.13296423\n  0.0622922  0.0622922  0.08864282 0.12458439 0.         0.04432141\n  0.04432141 0.         0.04432141 0.         0.         0.\n  0.         0.         0.08864282 0.17728565 0.12458439 0.22160706\n  0.0622922  0.         0.         0.         0.         0.0622922\n  0.0622922  0.0622922  0.31146099 0.         0.         0.0622922\n  0.         0.         0.0622922  0.         0.0622922  0.24916879\n  0.12458439 0.0622922  0.0622922  0.         0.         0.0622922\n  0.         0.         0.         0.0622922  0.04432141 0.\n  0.04432141 0.0622922  0.         0.         0.0622922  0.0622922\n  0.08864282 0.0622922  0.         0.0622922 ]\n [0.0678289  0.         0.04826082 0.         0.04826082 0.0678289\n  0.0678289  0.04826082 0.0678289  0.0678289  0.0678289  0.04826082\n  0.04826082 0.0678289  0.2413041  0.         0.14478246 0.0678289\n  0.09652164 0.         0.         0.0678289  0.04826082 0.04826082\n  0.04826082 0.0678289  0.         0.         0.         0.0678289\n  0.0678289  0.0678289  0.         0.0678289  0.0678289  0.0678289\n  0.0678289  0.         0.         0.04826082 0.09652164 0.04826082\n  0.04826082 0.0678289  0.0678289  0.0678289  0.         0.0678289\n  0.         0.         0.         0.0678289  0.04826082 0.04826082\n  0.04826082 0.         0.0678289  0.         0.1356578  0.1356578\n  0.         0.0678289  0.         0.09652164 0.04826082 0.\n  0.47480228 0.0678289  0.1356578  0.04826082 0.0678289  0.\n  0.20348669 0.09652164 0.14478246 0.0678289  0.         0.04826082\n  0.09652164 0.         0.         0.         0.09652164 0.\n  0.0678289  0.04826082 0.04826082 0.04826082 0.0678289  0.\n  0.0678289  0.         0.0678289  0.         0.0678289  0.04826082\n  0.04826082 0.19304328 0.         0.         0.04826082 0.\n  0.09652164 0.0678289  0.0678289  0.         0.         0.0678289\n  0.0678289  0.         0.04826082 0.04826082 0.         0.09652164\n  0.         0.         0.04826082 0.         0.20348669 0.04826082\n  0.04826082 0.0678289  0.09652164 0.0678289  0.0678289  0.0678289\n  0.0678289  0.0678289  0.04826082 0.04826082 0.         0.14478246\n  0.         0.0678289  0.0678289  0.0678289  0.0678289  0.\n  0.         0.         0.         0.1356578  0.0678289  0.\n  0.0678289  0.0678289  0.         0.0678289  0.         0.\n  0.         0.         0.         0.0678289  0.1356578  0.\n  0.0678289  0.0678289  0.1356578  0.         0.04826082 0.0678289\n  0.04826082 0.         0.0678289  0.0678289  0.         0.\n  0.04826082 0.         0.0678289  0.        ]]\n"
          ]
        }
      ]
    },
    {
      "cell_type": "markdown",
      "metadata": {
        "id": "gxESXEGq9qn9",
        "colab_type": "text"
      },
      "source": [
        "# Cosine Similarity Matrix"
      ]
    },
    {
      "cell_type": "code",
      "metadata": {
        "id": "qsaeQ_NccqIo",
        "colab_type": "code",
        "outputId": "7d5810aa-594a-4257-879c-2dc8b6c964d3",
        "colab": {
          "base_uri": "https://localhost:8080/",
          "height": 289
        }
      },
      "source": [
        "cos_similarity_matrix = (tfidf_matrix * tfidf_matrix.T).toarray()\n",
        "print (cos_similarity_matrix)"
      ],
      "execution_count": 20,
      "outputs": [
        {
          "output_type": "stream",
          "name": "stdout",
          "text": [
            "[[1.         0.34223802]\n [0.34223802 1.        ]]\n"
          ]
        }
      ]
    },
    {
      "cell_type": "code",
      "metadata": {
        "id": "4d2_OJHL4M4c",
        "colab_type": "code",
        "outputId": "7323b2d9-9d10-49a4-8303-b01369296041",
        "colab": {
          "base_uri": "https://localhost:8080/",
          "height": 297
        }
      },
      "source": [
        "df = pd.DataFrame(cos_similarity_matrix, index= ['doc1','doc2'], columns=['doc1','doc2'])\n",
        "df"
      ],
      "execution_count": 21,
      "outputs": [
        {
          "output_type": "execute_result",
          "data": {
            "text/plain": [
              "          doc1      doc2\n",
              "doc1  1.000000  0.342238\n",
              "doc2  0.342238  1.000000"
            ],
            "text/html": "<div>\n<style scoped>\n    .dataframe tbody tr th:only-of-type {\n        vertical-align: middle;\n    }\n\n    .dataframe tbody tr th {\n        vertical-align: top;\n    }\n\n    .dataframe thead th {\n        text-align: right;\n    }\n</style>\n<table border=\"1\" class=\"dataframe\">\n  <thead>\n    <tr style=\"text-align: right;\">\n      <th></th>\n      <th>doc1</th>\n      <th>doc2</th>\n    </tr>\n  </thead>\n  <tbody>\n    <tr>\n      <th>doc1</th>\n      <td>1.000000</td>\n      <td>0.342238</td>\n    </tr>\n    <tr>\n      <th>doc2</th>\n      <td>0.342238</td>\n      <td>1.000000</td>\n    </tr>\n  </tbody>\n</table>\n</div>"
          },
          "metadata": {},
          "execution_count": 21
        }
      ]
    },
    {
      "cell_type": "code",
      "metadata": {
        "id": "DHhHHBUh5RCC",
        "colab_type": "code",
        "colab": {}
      },
      "source": [
        "df.to_csv('sim_matrix.csv')"
      ],
      "execution_count": 22,
      "outputs": []
    },
    {
      "cell_type": "code",
      "metadata": {
        "id": "ip1VIxsV9OWr",
        "colab_type": "code",
        "outputId": "e282eb10-4d33-4333-a148-c0821b0df1ec",
        "colab": {
          "base_uri": "https://localhost:8080/",
          "height": 289
        }
      },
      "source": [
        "cos_similarity_matrix"
      ],
      "execution_count": 23,
      "outputs": [
        {
          "output_type": "execute_result",
          "data": {
            "text/plain": [
              "array([[1.        , 0.34223802],\n",
              "       [0.34223802, 1.        ]])"
            ]
          },
          "metadata": {},
          "execution_count": 23
        }
      ]
    },
    {
      "cell_type": "markdown",
      "metadata": {
        "id": "abqCkreo9yYr",
        "colab_type": "text"
      },
      "source": [
        "# Similarity Network Graph "
      ]
    },
    {
      "cell_type": "code",
      "metadata": {
        "id": "U_uY8Jm_1XZ_",
        "colab_type": "code",
        "outputId": "5d2416a8-f831-426b-cf22-863ae80b6552",
        "colab": {
          "base_uri": "https://localhost:8080/",
          "height": 384
        }
      },
      "source": [
        "\n",
        "G = nx.from_numpy_matrix(np.array(cos_similarity_matrix))\n",
        "pos=nx.spring_layout(G)\n",
        "labels = {}\n",
        "for idx, node in enumerate(G.nodes()):\n",
        "    labels[node] = ascii_lowercase[idx]\n",
        "nx.draw_networkx_nodes(G, pos)\n",
        "nx.draw_networkx_edges(G, pos)\n",
        "nx.draw_networkx_labels(G, pos, labels, font_size=16)"
      ],
      "execution_count": 24,
      "outputs": [
        {
          "output_type": "execute_result",
          "data": {
            "text/plain": [
              "{0: Text(0.9999999999999998, 0.45501880346503965, 'a'),\n",
              " 1: Text(-0.9999999999999999, -0.45501880346503965, 'b')}"
            ]
          },
          "metadata": {},
          "execution_count": 24
        },
        {
          "output_type": "display_data",
          "data": {
            "text/plain": "<Figure size 432x288 with 1 Axes>",
            "image/svg+xml": "<?xml version=\"1.0\" encoding=\"utf-8\" standalone=\"no\"?>\r\n<!DOCTYPE svg PUBLIC \"-//W3C//DTD SVG 1.1//EN\"\r\n  \"http://www.w3.org/Graphics/SVG/1.1/DTD/svg11.dtd\">\r\n<!-- Created with matplotlib (https://matplotlib.org/) -->\r\n<svg height=\"231.84pt\" version=\"1.1\" viewBox=\"0 0 349.2 231.84\" width=\"349.2pt\" xmlns=\"http://www.w3.org/2000/svg\" xmlns:xlink=\"http://www.w3.org/1999/xlink\">\r\n <defs>\r\n  <style type=\"text/css\">\r\n*{stroke-linecap:butt;stroke-linejoin:round;}\r\n  </style>\r\n </defs>\r\n <g id=\"figure_1\">\r\n  <g id=\"patch_1\">\r\n   <path d=\"M 0 231.84 \r\nL 349.2 231.84 \r\nL 349.2 0 \r\nL 0 0 \r\nz\r\n\" style=\"fill:none;\"/>\r\n  </g>\r\n  <g id=\"axes_1\">\r\n   <g id=\"patch_2\">\r\n    <path d=\"M 7.2 224.64 \r\nL 342 224.64 \r\nL 342 7.2 \r\nL 7.2 7.2 \r\nz\r\n\" style=\"fill:#ffffff;\"/>\r\n   </g>\r\n   <g id=\"LineCollection_1\">\r\n    <path clip-path=\"url(#pdb25c08f3b)\" d=\"M 322.944596 25.038577 \r\nL 322.944596 25.038577 \r\n\" style=\"fill:none;stroke:#000000;\"/>\r\n    <path clip-path=\"url(#pdb25c08f3b)\" d=\"M 322.944596 25.038577 \r\nL 26.255404 206.801423 \r\n\" style=\"fill:none;stroke:#000000;\"/>\r\n    <path clip-path=\"url(#pdb25c08f3b)\" d=\"M 26.255404 206.801423 \r\nL 26.255404 206.801423 \r\n\" style=\"fill:none;stroke:#000000;\"/>\r\n   </g>\r\n   <g id=\"matplotlib.axis_1\">\r\n    <g id=\"xtick_1\"/>\r\n    <g id=\"xtick_2\"/>\r\n    <g id=\"xtick_3\"/>\r\n    <g id=\"xtick_4\"/>\r\n    <g id=\"xtick_5\"/>\r\n   </g>\r\n   <g id=\"matplotlib.axis_2\">\r\n    <g id=\"ytick_1\"/>\r\n    <g id=\"ytick_2\"/>\r\n    <g id=\"ytick_3\"/>\r\n    <g id=\"ytick_4\"/>\r\n    <g id=\"ytick_5\"/>\r\n   </g>\r\n   <g id=\"PathCollection_1\">\r\n    <defs>\r\n     <path d=\"M 0 8.660254 \r\nC 2.296726 8.660254 4.499694 7.747755 6.123724 6.123724 \r\nC 7.747755 4.499694 8.660254 2.296726 8.660254 0 \r\nC 8.660254 -2.296726 7.747755 -4.499694 6.123724 -6.123724 \r\nC 4.499694 -7.747755 2.296726 -8.660254 0 -8.660254 \r\nC -2.296726 -8.660254 -4.499694 -7.747755 -6.123724 -6.123724 \r\nC -7.747755 -4.499694 -8.660254 -2.296726 -8.660254 0 \r\nC -8.660254 2.296726 -7.747755 4.499694 -6.123724 6.123724 \r\nC -4.499694 7.747755 -2.296726 8.660254 0 8.660254 \r\nz\r\n\" id=\"mefb925c9ac\" style=\"stroke:#1f78b4;\"/>\r\n    </defs>\r\n    <g clip-path=\"url(#pdb25c08f3b)\">\r\n     <use style=\"fill:#1f78b4;stroke:#1f78b4;\" x=\"322.944596\" xlink:href=\"#mefb925c9ac\" y=\"25.038577\"/>\r\n     <use style=\"fill:#1f78b4;stroke:#1f78b4;\" x=\"26.255404\" xlink:href=\"#mefb925c9ac\" y=\"206.801423\"/>\r\n    </g>\r\n   </g>\r\n   <g id=\"patch_3\">\r\n    <path d=\"M 7.2 224.64 \r\nL 7.2 7.2 \r\n\" style=\"fill:none;stroke:#000000;stroke-linecap:square;stroke-linejoin:miter;stroke-width:0.8;\"/>\r\n   </g>\r\n   <g id=\"patch_4\">\r\n    <path d=\"M 342 224.64 \r\nL 342 7.2 \r\n\" style=\"fill:none;stroke:#000000;stroke-linecap:square;stroke-linejoin:miter;stroke-width:0.8;\"/>\r\n   </g>\r\n   <g id=\"patch_5\">\r\n    <path d=\"M 7.2 224.64 \r\nL 342 224.64 \r\n\" style=\"fill:none;stroke:#000000;stroke-linecap:square;stroke-linejoin:miter;stroke-width:0.8;\"/>\r\n   </g>\r\n   <g id=\"patch_6\">\r\n    <path d=\"M 7.2 7.2 \r\nL 342 7.2 \r\n\" style=\"fill:none;stroke:#000000;stroke-linecap:square;stroke-linejoin:miter;stroke-width:0.8;\"/>\r\n   </g>\r\n   <g id=\"text_1\">\r\n    <g clip-path=\"url(#pdb25c08f3b)\">\r\n     <!-- a -->\r\n     <defs>\r\n      <path d=\"M 34.28125 27.484375 \r\nQ 23.390625 27.484375 19.1875 25 \r\nQ 14.984375 22.515625 14.984375 16.5 \r\nQ 14.984375 11.71875 18.140625 8.90625 \r\nQ 21.296875 6.109375 26.703125 6.109375 \r\nQ 34.1875 6.109375 38.703125 11.40625 \r\nQ 43.21875 16.703125 43.21875 25.484375 \r\nL 43.21875 27.484375 \r\nz\r\nM 52.203125 31.203125 \r\nL 52.203125 0 \r\nL 43.21875 0 \r\nL 43.21875 8.296875 \r\nQ 40.140625 3.328125 35.546875 0.953125 \r\nQ 30.953125 -1.421875 24.3125 -1.421875 \r\nQ 15.921875 -1.421875 10.953125 3.296875 \r\nQ 6 8.015625 6 15.921875 \r\nQ 6 25.140625 12.171875 29.828125 \r\nQ 18.359375 34.515625 30.609375 34.515625 \r\nL 43.21875 34.515625 \r\nL 43.21875 35.40625 \r\nQ 43.21875 41.609375 39.140625 45 \r\nQ 35.0625 48.390625 27.6875 48.390625 \r\nQ 23 48.390625 18.546875 47.265625 \r\nQ 14.109375 46.140625 10.015625 43.890625 \r\nL 10.015625 52.203125 \r\nQ 14.9375 54.109375 19.578125 55.046875 \r\nQ 24.21875 56 28.609375 56 \r\nQ 40.484375 56 46.34375 49.84375 \r\nQ 52.203125 43.703125 52.203125 31.203125 \r\nz\r\n\" id=\"DejaVuSans-97\"/>\r\n     </defs>\r\n     <g transform=\"translate(318.042096 29.453577)scale(0.16 -0.16)\">\r\n      <use xlink:href=\"#DejaVuSans-97\"/>\r\n     </g>\r\n    </g>\r\n   </g>\r\n   <g id=\"text_2\">\r\n    <g clip-path=\"url(#pdb25c08f3b)\">\r\n     <!-- b -->\r\n     <defs>\r\n      <path d=\"M 48.6875 27.296875 \r\nQ 48.6875 37.203125 44.609375 42.84375 \r\nQ 40.53125 48.484375 33.40625 48.484375 \r\nQ 26.265625 48.484375 22.1875 42.84375 \r\nQ 18.109375 37.203125 18.109375 27.296875 \r\nQ 18.109375 17.390625 22.1875 11.75 \r\nQ 26.265625 6.109375 33.40625 6.109375 \r\nQ 40.53125 6.109375 44.609375 11.75 \r\nQ 48.6875 17.390625 48.6875 27.296875 \r\nz\r\nM 18.109375 46.390625 \r\nQ 20.953125 51.265625 25.265625 53.625 \r\nQ 29.59375 56 35.59375 56 \r\nQ 45.5625 56 51.78125 48.09375 \r\nQ 58.015625 40.1875 58.015625 27.296875 \r\nQ 58.015625 14.40625 51.78125 6.484375 \r\nQ 45.5625 -1.421875 35.59375 -1.421875 \r\nQ 29.59375 -1.421875 25.265625 0.953125 \r\nQ 20.953125 3.328125 18.109375 8.203125 \r\nL 18.109375 0 \r\nL 9.078125 0 \r\nL 9.078125 75.984375 \r\nL 18.109375 75.984375 \r\nz\r\n\" id=\"DejaVuSans-98\"/>\r\n     </defs>\r\n     <g transform=\"translate(21.176654 211.216423)scale(0.16 -0.16)\">\r\n      <use xlink:href=\"#DejaVuSans-98\"/>\r\n     </g>\r\n    </g>\r\n   </g>\r\n  </g>\r\n </g>\r\n <defs>\r\n  <clipPath id=\"pdb25c08f3b\">\r\n   <rect height=\"217.44\" width=\"334.8\" x=\"7.2\" y=\"7.2\"/>\r\n  </clipPath>\r\n </defs>\r\n</svg>\r\n",
            "image/png": "[encoded data removed]"
          },
          "metadata": {}
        }
      ]
    }
  ]
}