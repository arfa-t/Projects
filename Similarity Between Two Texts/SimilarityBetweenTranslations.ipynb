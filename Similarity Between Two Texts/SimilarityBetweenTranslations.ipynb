{
  "nbformat": 4,
  "nbformat_minor": 0,
  "metadata": {
    "colab": {
      "name": "NLP_Project_Bia_Chaudhry_184055_SimilarityBetweenDocuments",
      "provenance": [],
      "collapsed_sections": []
    },
    "kernelspec": {
      "name": "python3",
      "display_name": "Python 3",
      "language": "python"
    }
  },
  "cells": [
    {
      "cell_type": "markdown",
      "metadata": {
        "id": "F652Dv_4g-d7",
        "colab_type": "text"
      },
      "source": [
        "#COMPARISON BETWEEN COSINE SIMILARITY & SOFT COSINE SIMILARITY "
      ]
    },
    {
      "cell_type": "markdown",
      "metadata": {
        "id": "U8e4LVEq8ysm",
        "colab_type": "text"
      },
      "source": [
        "# Installing packages and Importing Libraries"
      ]
    },
    {
      "cell_type": "code",
      "metadata": {
        "id": "P_02svW-oxC5",
        "colab_type": "code",
        "outputId": "7eaa48b6-f229-465f-8a1d-2ca44e4f7ee9",
        "colab": {
          "base_uri": "https://localhost:8080/",
          "height": 34
        }
      },
      "source": [
        "!pip install beautifulsoup4"
      ],
      "execution_count": 6,
      "outputs": [
        {
          "output_type": "stream",
          "name": "stdout",
          "text": [
            "Requirement already satisfied: beautifulsoup4 in c:\\users\\administrator\\anaconda3\\lib\\site-packages (4.8.2)\nRequirement already satisfied: soupsieve>=1.2 in c:\\users\\administrator\\anaconda3\\lib\\site-packages (from beautifulsoup4) (1.9.5)\n"
          ]
        }
      ]
    },
    {
      "cell_type": "code",
      "metadata": {
        "id": "Lc_KTcV6o0ne",
        "colab_type": "code",
        "outputId": "c3f74de5-e1b8-4a1e-d673-73c09e8755a7",
        "colab": {
          "base_uri": "https://localhost:8080/",
          "height": 34
        }
      },
      "source": [
        "!pip install lxml"
      ],
      "execution_count": 7,
      "outputs": [
        {
          "output_type": "stream",
          "name": "stdout",
          "text": [
            "Requirement already satisfied: lxml in c:\\users\\administrator\\anaconda3\\lib\\site-packages (4.5.0)\n"
          ]
        }
      ]
    },
    {
      "cell_type": "code",
      "metadata": {
        "id": "Fhwnv8Pg6r0M",
        "colab_type": "code",
        "outputId": "58a22d46-c82b-44de-b5c8-39afc816d366",
        "colab": {
          "base_uri": "https://localhost:8080/",
          "height": 85
        }
      },
      "source": [
        "import bs4 as bs\n",
        "import urllib.request\n",
        "import re\n",
        "import nltk, string, numpy as np\n",
        "#nltk.download('wordnet') # first-time use only\n",
        "#nltk.download('punkt')\n",
        "from sklearn.feature_extraction.text import CountVectorizer\n",
        "from sklearn.feature_extraction.text import TfidfTransformer\n",
        "import math\n",
        "import pandas as pd\n",
        "import networkx as nx\n",
        "from networkx.generators.small import krackhardt_kite_graph\n",
        "from string import ascii_lowercase"
      ],
      "execution_count": 8,
      "outputs": [
        {
          "output_type": "error",
          "ename": "AttributeError",
          "evalue": "module 'nltk' has no attribute 'data'",
          "traceback": [
            "\u001b[1;31m---------------------------------------------------------------------------\u001b[0m",
            "\u001b[1;31mAttributeError\u001b[0m                            Traceback (most recent call last)",
            "\u001b[1;32m<ipython-input-8-052cbacaa022>\u001b[0m in \u001b[0;36m<module>\u001b[1;34m\u001b[0m\n\u001b[0;32m      2\u001b[0m \u001b[1;32mimport\u001b[0m \u001b[0murllib\u001b[0m\u001b[1;33m.\u001b[0m\u001b[0mrequest\u001b[0m\u001b[1;33m\u001b[0m\u001b[1;33m\u001b[0m\u001b[0m\n\u001b[0;32m      3\u001b[0m \u001b[1;32mimport\u001b[0m \u001b[0mre\u001b[0m\u001b[1;33m\u001b[0m\u001b[1;33m\u001b[0m\u001b[0m\n\u001b[1;32m----> 4\u001b[1;33m \u001b[1;32mimport\u001b[0m \u001b[0mnltk\u001b[0m\u001b[1;33m,\u001b[0m \u001b[0mstring\u001b[0m\u001b[1;33m,\u001b[0m \u001b[0mnumpy\u001b[0m \u001b[1;32mas\u001b[0m \u001b[0mnp\u001b[0m\u001b[1;33m\u001b[0m\u001b[1;33m\u001b[0m\u001b[0m\n\u001b[0m\u001b[0;32m      5\u001b[0m \u001b[1;31m#nltk.download('wordnet') # first-time use only\u001b[0m\u001b[1;33m\u001b[0m\u001b[1;33m\u001b[0m\u001b[1;33m\u001b[0m\u001b[0m\n\u001b[0;32m      6\u001b[0m \u001b[1;31m#nltk.download('punkt')\u001b[0m\u001b[1;33m\u001b[0m\u001b[1;33m\u001b[0m\u001b[1;33m\u001b[0m\u001b[0m\n",
            "\u001b[1;32m~\\anaconda3\\lib\\site-packages\\nltk\\__init__.py\u001b[0m in \u001b[0;36m<module>\u001b[1;34m\u001b[0m\n\u001b[0;32m    148\u001b[0m \u001b[1;32mfrom\u001b[0m \u001b[0mnltk\u001b[0m\u001b[1;33m.\u001b[0m\u001b[0mtag\u001b[0m \u001b[1;32mimport\u001b[0m \u001b[1;33m*\u001b[0m\u001b[1;33m\u001b[0m\u001b[1;33m\u001b[0m\u001b[0m\n\u001b[0;32m    149\u001b[0m \u001b[1;32mfrom\u001b[0m \u001b[0mnltk\u001b[0m\u001b[1;33m.\u001b[0m\u001b[0mtokenize\u001b[0m \u001b[1;32mimport\u001b[0m \u001b[1;33m*\u001b[0m\u001b[1;33m\u001b[0m\u001b[1;33m\u001b[0m\u001b[0m\n\u001b[1;32m--> 150\u001b[1;33m \u001b[1;32mfrom\u001b[0m \u001b[0mnltk\u001b[0m\u001b[1;33m.\u001b[0m\u001b[0mtranslate\u001b[0m \u001b[1;32mimport\u001b[0m \u001b[1;33m*\u001b[0m\u001b[1;33m\u001b[0m\u001b[1;33m\u001b[0m\u001b[0m\n\u001b[0m\u001b[0;32m    151\u001b[0m \u001b[1;32mfrom\u001b[0m \u001b[0mnltk\u001b[0m\u001b[1;33m.\u001b[0m\u001b[0msem\u001b[0m \u001b[1;32mimport\u001b[0m \u001b[1;33m*\u001b[0m\u001b[1;33m\u001b[0m\u001b[1;33m\u001b[0m\u001b[0m\n\u001b[0;32m    152\u001b[0m \u001b[1;32mfrom\u001b[0m \u001b[0mnltk\u001b[0m\u001b[1;33m.\u001b[0m\u001b[0mstem\u001b[0m \u001b[1;32mimport\u001b[0m \u001b[1;33m*\u001b[0m\u001b[1;33m\u001b[0m\u001b[1;33m\u001b[0m\u001b[0m\n",
            "\u001b[1;32m~\\anaconda3\\lib\\site-packages\\nltk\\translate\\__init__.py\u001b[0m in \u001b[0;36m<module>\u001b[1;34m\u001b[0m\n\u001b[0;32m     21\u001b[0m \u001b[1;32mfrom\u001b[0m \u001b[0mnltk\u001b[0m\u001b[1;33m.\u001b[0m\u001b[0mtranslate\u001b[0m\u001b[1;33m.\u001b[0m\u001b[0mbleu_score\u001b[0m \u001b[1;32mimport\u001b[0m \u001b[0msentence_bleu\u001b[0m \u001b[1;32mas\u001b[0m \u001b[0mbleu\u001b[0m\u001b[1;33m\u001b[0m\u001b[1;33m\u001b[0m\u001b[0m\n\u001b[0;32m     22\u001b[0m \u001b[1;32mfrom\u001b[0m \u001b[0mnltk\u001b[0m\u001b[1;33m.\u001b[0m\u001b[0mtranslate\u001b[0m\u001b[1;33m.\u001b[0m\u001b[0mribes_score\u001b[0m \u001b[1;32mimport\u001b[0m \u001b[0msentence_ribes\u001b[0m \u001b[1;32mas\u001b[0m \u001b[0mribes\u001b[0m\u001b[1;33m\u001b[0m\u001b[1;33m\u001b[0m\u001b[0m\n\u001b[1;32m---> 23\u001b[1;33m \u001b[1;32mfrom\u001b[0m \u001b[0mnltk\u001b[0m\u001b[1;33m.\u001b[0m\u001b[0mtranslate\u001b[0m\u001b[1;33m.\u001b[0m\u001b[0mmeteor_score\u001b[0m \u001b[1;32mimport\u001b[0m \u001b[0mmeteor_score\u001b[0m \u001b[1;32mas\u001b[0m \u001b[0mmeteor\u001b[0m\u001b[1;33m\u001b[0m\u001b[1;33m\u001b[0m\u001b[0m\n\u001b[0m\u001b[0;32m     24\u001b[0m \u001b[1;32mfrom\u001b[0m \u001b[0mnltk\u001b[0m\u001b[1;33m.\u001b[0m\u001b[0mtranslate\u001b[0m\u001b[1;33m.\u001b[0m\u001b[0mmetrics\u001b[0m \u001b[1;32mimport\u001b[0m \u001b[0malignment_error_rate\u001b[0m\u001b[1;33m\u001b[0m\u001b[1;33m\u001b[0m\u001b[0m\n\u001b[0;32m     25\u001b[0m \u001b[1;32mfrom\u001b[0m \u001b[0mnltk\u001b[0m\u001b[1;33m.\u001b[0m\u001b[0mtranslate\u001b[0m\u001b[1;33m.\u001b[0m\u001b[0mstack_decoder\u001b[0m \u001b[1;32mimport\u001b[0m \u001b[0mStackDecoder\u001b[0m\u001b[1;33m\u001b[0m\u001b[1;33m\u001b[0m\u001b[0m\n",
            "\u001b[1;32m~\\anaconda3\\lib\\site-packages\\nltk\\translate\\meteor_score.py\u001b[0m in \u001b[0;36m<module>\u001b[1;34m\u001b[0m\n\u001b[0;32m      9\u001b[0m \u001b[1;33m\u001b[0m\u001b[0m\n\u001b[0;32m     10\u001b[0m \u001b[1;32mfrom\u001b[0m \u001b[0mnltk\u001b[0m\u001b[1;33m.\u001b[0m\u001b[0mstem\u001b[0m\u001b[1;33m.\u001b[0m\u001b[0mporter\u001b[0m \u001b[1;32mimport\u001b[0m \u001b[0mPorterStemmer\u001b[0m\u001b[1;33m\u001b[0m\u001b[1;33m\u001b[0m\u001b[0m\n\u001b[1;32m---> 11\u001b[1;33m \u001b[1;32mfrom\u001b[0m \u001b[0mnltk\u001b[0m\u001b[1;33m.\u001b[0m\u001b[0mcorpus\u001b[0m \u001b[1;32mimport\u001b[0m \u001b[0mwordnet\u001b[0m\u001b[1;33m\u001b[0m\u001b[1;33m\u001b[0m\u001b[0m\n\u001b[0m\u001b[0;32m     12\u001b[0m \u001b[1;32mfrom\u001b[0m \u001b[0mitertools\u001b[0m \u001b[1;32mimport\u001b[0m \u001b[0mchain\u001b[0m\u001b[1;33m,\u001b[0m \u001b[0mproduct\u001b[0m\u001b[1;33m\u001b[0m\u001b[1;33m\u001b[0m\u001b[0m\n\u001b[0;32m     13\u001b[0m \u001b[1;33m\u001b[0m\u001b[0m\n",
            "\u001b[1;32m~\\anaconda3\\lib\\site-packages\\nltk\\corpus\\__init__.py\u001b[0m in \u001b[0;36m<module>\u001b[1;34m\u001b[0m\n\u001b[0;32m     64\u001b[0m \u001b[1;32mfrom\u001b[0m \u001b[0mnltk\u001b[0m\u001b[1;33m.\u001b[0m\u001b[0mtokenize\u001b[0m \u001b[1;32mimport\u001b[0m \u001b[0mRegexpTokenizer\u001b[0m\u001b[1;33m\u001b[0m\u001b[1;33m\u001b[0m\u001b[0m\n\u001b[0;32m     65\u001b[0m \u001b[1;32mfrom\u001b[0m \u001b[0mnltk\u001b[0m\u001b[1;33m.\u001b[0m\u001b[0mcorpus\u001b[0m\u001b[1;33m.\u001b[0m\u001b[0mutil\u001b[0m \u001b[1;32mimport\u001b[0m \u001b[0mLazyCorpusLoader\u001b[0m\u001b[1;33m\u001b[0m\u001b[1;33m\u001b[0m\u001b[0m\n\u001b[1;32m---> 66\u001b[1;33m \u001b[1;32mfrom\u001b[0m \u001b[0mnltk\u001b[0m\u001b[1;33m.\u001b[0m\u001b[0mcorpus\u001b[0m\u001b[1;33m.\u001b[0m\u001b[0mreader\u001b[0m \u001b[1;32mimport\u001b[0m \u001b[1;33m*\u001b[0m\u001b[1;33m\u001b[0m\u001b[1;33m\u001b[0m\u001b[0m\n\u001b[0m\u001b[0;32m     67\u001b[0m \u001b[1;33m\u001b[0m\u001b[0m\n\u001b[0;32m     68\u001b[0m abc = LazyCorpusLoader(\n",
            "\u001b[1;32m~\\anaconda3\\lib\\site-packages\\nltk\\corpus\\reader\\__init__.py\u001b[0m in \u001b[0;36m<module>\u001b[1;34m\u001b[0m\n\u001b[0;32m     54\u001b[0m \"\"\"\n\u001b[0;32m     55\u001b[0m \u001b[1;33m\u001b[0m\u001b[0m\n\u001b[1;32m---> 56\u001b[1;33m \u001b[1;32mfrom\u001b[0m \u001b[0mnltk\u001b[0m\u001b[1;33m.\u001b[0m\u001b[0mcorpus\u001b[0m\u001b[1;33m.\u001b[0m\u001b[0mreader\u001b[0m\u001b[1;33m.\u001b[0m\u001b[0mplaintext\u001b[0m \u001b[1;32mimport\u001b[0m \u001b[1;33m*\u001b[0m\u001b[1;33m\u001b[0m\u001b[1;33m\u001b[0m\u001b[0m\n\u001b[0m\u001b[0;32m     57\u001b[0m \u001b[1;32mfrom\u001b[0m \u001b[0mnltk\u001b[0m\u001b[1;33m.\u001b[0m\u001b[0mcorpus\u001b[0m\u001b[1;33m.\u001b[0m\u001b[0mreader\u001b[0m\u001b[1;33m.\u001b[0m\u001b[0mutil\u001b[0m \u001b[1;32mimport\u001b[0m \u001b[1;33m*\u001b[0m\u001b[1;33m\u001b[0m\u001b[1;33m\u001b[0m\u001b[0m\n\u001b[0;32m     58\u001b[0m \u001b[1;32mfrom\u001b[0m \u001b[0mnltk\u001b[0m\u001b[1;33m.\u001b[0m\u001b[0mcorpus\u001b[0m\u001b[1;33m.\u001b[0m\u001b[0mreader\u001b[0m\u001b[1;33m.\u001b[0m\u001b[0mapi\u001b[0m \u001b[1;32mimport\u001b[0m \u001b[1;33m*\u001b[0m\u001b[1;33m\u001b[0m\u001b[1;33m\u001b[0m\u001b[0m\n",
            "\u001b[1;32m~\\anaconda3\\lib\\site-packages\\nltk\\corpus\\reader\\plaintext.py\u001b[0m in \u001b[0;36m<module>\u001b[1;34m\u001b[0m\n\u001b[0;32m     19\u001b[0m \u001b[1;33m\u001b[0m\u001b[0m\n\u001b[0;32m     20\u001b[0m \u001b[1;33m\u001b[0m\u001b[0m\n\u001b[1;32m---> 21\u001b[1;33m \u001b[1;32mclass\u001b[0m \u001b[0mPlaintextCorpusReader\u001b[0m\u001b[1;33m(\u001b[0m\u001b[0mCorpusReader\u001b[0m\u001b[1;33m)\u001b[0m\u001b[1;33m:\u001b[0m\u001b[1;33m\u001b[0m\u001b[1;33m\u001b[0m\u001b[0m\n\u001b[0m\u001b[0;32m     22\u001b[0m     \"\"\"\n\u001b[0;32m     23\u001b[0m     \u001b[0mReader\u001b[0m \u001b[1;32mfor\u001b[0m \u001b[0mcorpora\u001b[0m \u001b[0mthat\u001b[0m \u001b[0mconsist\u001b[0m \u001b[0mof\u001b[0m \u001b[0mplaintext\u001b[0m \u001b[0mdocuments\u001b[0m\u001b[1;33m.\u001b[0m  \u001b[0mParagraphs\u001b[0m\u001b[1;33m\u001b[0m\u001b[1;33m\u001b[0m\u001b[0m\n",
            "\u001b[1;32m~\\anaconda3\\lib\\site-packages\\nltk\\corpus\\reader\\plaintext.py\u001b[0m in \u001b[0;36mPlaintextCorpusReader\u001b[1;34m()\u001b[0m\n\u001b[0;32m     41\u001b[0m         \u001b[0mfileids\u001b[0m\u001b[1;33m,\u001b[0m\u001b[1;33m\u001b[0m\u001b[1;33m\u001b[0m\u001b[0m\n\u001b[0;32m     42\u001b[0m         \u001b[0mword_tokenizer\u001b[0m\u001b[1;33m=\u001b[0m\u001b[0mWordPunctTokenizer\u001b[0m\u001b[1;33m(\u001b[0m\u001b[1;33m)\u001b[0m\u001b[1;33m,\u001b[0m\u001b[1;33m\u001b[0m\u001b[1;33m\u001b[0m\u001b[0m\n\u001b[1;32m---> 43\u001b[1;33m         \u001b[0msent_tokenizer\u001b[0m\u001b[1;33m=\u001b[0m\u001b[0mnltk\u001b[0m\u001b[1;33m.\u001b[0m\u001b[0mdata\u001b[0m\u001b[1;33m.\u001b[0m\u001b[0mLazyLoader\u001b[0m\u001b[1;33m(\u001b[0m\u001b[1;34m'tokenizers/punkt/english.pickle'\u001b[0m\u001b[1;33m)\u001b[0m\u001b[1;33m,\u001b[0m\u001b[1;33m\u001b[0m\u001b[1;33m\u001b[0m\u001b[0m\n\u001b[0m\u001b[0;32m     44\u001b[0m         \u001b[0mpara_block_reader\u001b[0m\u001b[1;33m=\u001b[0m\u001b[0mread_blankline_block\u001b[0m\u001b[1;33m,\u001b[0m\u001b[1;33m\u001b[0m\u001b[1;33m\u001b[0m\u001b[0m\n\u001b[0;32m     45\u001b[0m         \u001b[0mencoding\u001b[0m\u001b[1;33m=\u001b[0m\u001b[1;34m'utf8'\u001b[0m\u001b[1;33m,\u001b[0m\u001b[1;33m\u001b[0m\u001b[1;33m\u001b[0m\u001b[0m\n",
            "\u001b[1;31mAttributeError\u001b[0m: module 'nltk' has no attribute 'data'"
          ]
        }
      ]
    },
    {
      "cell_type": "markdown",
      "metadata": {
        "id": "cZ5zF4_X9BkG",
        "colab_type": "text"
      },
      "source": [
        "### Select two different English translations of the Quran, of the same Surah "
      ]
    },
    {
      "cell_type": "code",
      "metadata": {
        "id": "OWbBMhpbo5OQ",
        "colab_type": "code",
        "colab": {}
      },
      "source": [
        "def abstractExtracter(url_to_go):\n",
        "  scraped_data = urllib.request.urlopen(url_to_go)\n",
        "  article = scraped_data.read()\n",
        "\n",
        "  parsed_article = bs.BeautifulSoup(article,'lxml')\n",
        "\n",
        "  paragraphs = parsed_article.find_all(id='p-2')\n",
        "\n",
        "  article_text = \"\"\n",
        "\n",
        "  for p in paragraphs:\n",
        "      article_text += p.text\n",
        "  return article_text\n",
        "\n",
        "\n",
        "# here are two translations of the same part of a Surah, each by a different translator\n",
        "#By  Shakir\n",
        "abstract1 =  \"In the name of Allah, the Beneficent, the Merciful .All praise is due to Allah, the Lord of the Worlds.The Beneficent, the Merciful. Master of the Day of Judgment. Thee do we serve and Thee do we beseech for help. Keep us on the right path. The path of those upon whom Thou hast bestowed favors. Not (the path) of those upon whom Thy wrath is brought down, nor of those who go astray. Alif Lam Mim.This Book, there is no doubt in it, is a guide to those who guard (against evil). Those who believe in the unseen and keep up prayer and spend out of what We have given them. And who believe in that which has been revealed to you and that which was revealed before you and they are sure of the hereafter. These are on a right course from their Lord and these it is that shall be successful. Surely those who disbelieve, it being alike to them whether you warn them, or do not warn them, will not believe.Allah has set a seal upon their hearts and upon their hearing and there is a covering over their eyes, and there is a great punishment for them. And there are some people who say: We believe in Allah and the last day; and they are not at all believers. They desire to deceive Allah and those who believe, and they deceive only themselves and they do not perceive. There is a disease in their hearts, so Allah added to their disease and they shall have a painful chastisement because they lied. And when it is said to them, Do not make mischief in the land, they say: We are but peace-makers. Now surely they themselves are the mischief makers, but they do not perceive. And when it is said to them: Believe as the people believe, they say: Shall we believe as the fools believe? Now surely they themselves are the fools, but they do not know. And when they meet those who believe, they say: We believe; and when they are alone with their Shaitans, they say: Surely we are with you, we were only mocking. Allah shall pay them back their mockery, and He leaves them alone in their inordinacy, blindly wandering on. These are they who buy error for the right direction, so their bargain shall bring no gain, nor are they the followers of the right direction. Their parable is like the parable of one who kindled a fire, but when it had illumined all around him, Allah took away their light, and left them in utter darkness-- they do not see. Deaf, dumb (and) blind, so they will not turn back\"\n",
        "\n",
        "# By Sarwar\n",
        "abstract2 = \"In the Name of Allah, the Beneficent, the Merciful. All praise belongs to God, Lord of the Universe,the Beneficent, the Merciful and Master of the Day of Judgment (Lord), You alone We do worship and from You alone we do seek assistance (Lord), guide us to the right path, the path of those to whom You have granted blessings, those who are neither subject to Your anger nor have gone astray. Alif. Lam. Mim. There is no doubt that this book is a guide for the pious; the pious who believe in the unseen, attend to prayer, give in charity part of what We have granted them; who have faith in what has been revealed to you and others before you and have strong faith in the life hereafter. It is the pious who follow the guidance of their Lord and gain lasting happiness. Those who deny your message will not believe whether you warn them or not. God has sealed their hearts and hearing and their vision is veiled; a great punishment awaits them. Some people say, We believe in God and the Day of Judgment, but they are not true believers. They deceive God and the believers. However, they have deceived no one but themselves, a fact of which they are not aware. A sickness exists in their hearts to which God adds more sickness. Besides this, they will suffer a painful punishment as a result of the lie which they speak.When they are told not to commit corruption in the land, they reply, We are only reformers. They, certainly, are corrupt but do not realize it. When they are told to believe as everyone else does, they say, Should we believe as fools do? In fact, they themselves are fools, but they do not know it. To the believers they declare belief and, in secret to their own devils, they say, We were only mocking. God mocks them and gives them time to continue blindly in their transgressions. They have traded guidance for error, but their bargain has had no profit and they have missed the true guidance. (Their case) is like that of one who kindles a fire and when it grows bright God takes away its light leaving him in darkness (wherein) he cannot see (anything). They are deaf, blind, and dumb and cannot regain their senses.\"\n",
        "\n",
        "\n"
      ],
      "execution_count": 5,
      "outputs": []
    },
    {
      "cell_type": "code",
      "metadata": {
        "id": "FEPjgnvFp9UN",
        "colab_type": "code",
        "outputId": "62c82986-ca82-4bc3-8645-766b0fa2e811",
        "colab": {
          "base_uri": "https://localhost:8080/",
          "height": 700
        }
      },
      "source": [
        "print('ABSTRACT # 1: ', abstract1)\n",
        "\n",
        "print('\\n-----------\\n')\n",
        "\n",
        "print('ABSTRACT # 2: ',abstract2)\n",
        "\n",
        "print('\\n-----------\\n')\n",
        "\n"
      ],
      "execution_count": 6,
      "outputs": [
        {
          "output_type": "stream",
          "name": "stdout",
          "text": [
            "ABSTRACT # 1:  In the name of Allah, the Beneficent, the Merciful .All praise is due to Allah, the Lord of the Worlds.The Beneficent, the Merciful. Master of the Day of Judgment. Thee do we serve and Thee do we beseech for help. Keep us on the right path. The path of those upon whom Thou hast bestowed favors. Not (the path) of those upon whom Thy wrath is brought down, nor of those who go astray. Alif Lam Mim.This Book, there is no doubt in it, is a guide to those who guard (against evil). Those who believe in the unseen and keep up prayer and spend out of what We have given them. And who believe in that which has been revealed to you and that which was revealed before you and they are sure of the hereafter. These are on a right course from their Lord and these it is that shall be successful. Surely those who disbelieve, it being alike to them whether you warn them, or do not warn them, will not believe.Allah has set a seal upon their hearts and upon their hearing and there is a covering over their eyes, and there is a great punishment for them. And there are some people who say: We believe in Allah and the last day; and they are not at all believers. They desire to deceive Allah and those who believe, and they deceive only themselves and they do not perceive. There is a disease in their hearts, so Allah added to their disease and they shall have a painful chastisement because they lied. And when it is said to them, Do not make mischief in the land, they say: We are but peace-makers. Now surely they themselves are the mischief makers, but they do not perceive. And when it is said to them: Believe as the people believe, they say: Shall we believe as the fools believe? Now surely they themselves are the fools, but they do not know. And when they meet those who believe, they say: We believe; and when they are alone with their Shaitans, they say: Surely we are with you, we were only mocking. Allah shall pay them back their mockery, and He leaves them alone in their inordinacy, blindly wandering on. These are they who buy error for the right direction, so their bargain shall bring no gain, nor are they the followers of the right direction. Their parable is like the parable of one who kindled a fire, but when it had illumined all around him, Allah took away their light, and left them in utter darkness-- they do not see. Deaf, dumb (and) blind, so they will not turn back\n\n-----------\n\nABSTRACT # 2:  In the Name of Allah, the Beneficent, the Merciful. All praise belongs to God, Lord of the Universe,the Beneficent, the Merciful and Master of the Day of Judgment (Lord), You alone We do worship and from You alone we do seek assistance (Lord), guide us to the right path, the path of those to whom You have granted blessings, those who are neither subject to Your anger nor have gone astray. Alif. Lam. Mim. There is no doubt that this book is a guide for the pious; the pious who believe in the unseen, attend to prayer, give in charity part of what We have granted them; who have faith in what has been revealed to you and others before you and have strong faith in the life hereafter. It is the pious who follow the guidance of their Lord and gain lasting happiness. Those who deny your message will not believe whether you warn them or not. God has sealed their hearts and hearing and their vision is veiled; a great punishment awaits them. Some people say, We believe in God and the Day of Judgment, but they are not true believers. They deceive God and the believers. However, they have deceived no one but themselves, a fact of which they are not aware. A sickness exists in their hearts to which God adds more sickness. Besides this, they will suffer a painful punishment as a result of the lie which they speak.When they are told not to commit corruption in the land, they reply, We are only reformers. They, certainly, are corrupt but do not realize it. When they are told to believe as everyone else does, they say, Should we believe as fools do? In fact, they themselves are fools, but they do not know it. To the believers they declare belief and, in secret to their own devils, they say, We were only mocking. God mocks them and gives them time to continue blindly in their transgressions. They have traded guidance for error, but their bargain has had no profit and they have missed the true guidance. (Their case) is like that of one who kindles a fire and when it grows bright God takes away its light leaving him in darkness (wherein) he cannot see (anything). They are deaf, blind, and dumb and cannot regain their senses.\n\n-----------\n\n"
          ]
        }
      ]
    },
    {
      "cell_type": "code",
      "metadata": {
        "id": "g4gPfx5ebzuc",
        "colab_type": "code",
        "colab": {}
      },
      "source": [
        "d1 = abstract1\n",
        "d2 = abstract2\n",
        "documents = [d1, d2]"
      ],
      "execution_count": 7,
      "outputs": []
    },
    {
      "cell_type": "markdown",
      "metadata": {
        "id": "K7LwtBAG9ZNR",
        "colab_type": "text"
      },
      "source": [
        "# Data Preprocessing"
      ]
    },
    {
      "cell_type": "code",
      "metadata": {
        "id": "xs3ugcFNb8xX",
        "colab_type": "code",
        "colab": {}
      },
      "source": [
        "lemmer = nltk.stem.WordNetLemmatizer()\n",
        "def LemTokens(tokens):\n",
        "    return [lemmer.lemmatize(token) for token in tokens]\n",
        "remove_punct_dict = dict((ord(punct), None) for punct in string.punctuation)\n",
        "def LemNormalize(text):\n",
        "    return LemTokens(nltk.word_tokenize(text.lower().translate(remove_punct_dict)))"
      ],
      "execution_count": 8,
      "outputs": []
    },
    {
      "cell_type": "code",
      "metadata": {
        "id": "gNAXftYucCut",
        "colab_type": "code",
        "outputId": "9c2ece10-ad06-48b4-98c9-03e1d69e4de5",
        "colab": {
          "base_uri": "https://localhost:8080/",
          "height": 105
        }
      },
      "source": [
        "LemVectorizer = CountVectorizer(tokenizer=LemNormalize, stop_words='english')\n",
        "LemVectorizer.fit_transform(documents)"
      ],
      "execution_count": 9,
      "outputs": [
        {
          "output_type": "execute_result",
          "data": {
            "text/plain": [
              "<2x172 sparse matrix of type '<class 'numpy.int64'>'\n",
              "\twith 219 stored elements in Compressed Sparse Row format>"
            ]
          },
          "metadata": {},
          "execution_count": 9
        }
      ]
    },
    {
      "cell_type": "code",
      "metadata": {
        "id": "vRlbihfrcGB6",
        "colab_type": "code",
        "outputId": "189fba43-82a3-4c09-8d5a-fa593622a9ee",
        "colab": {
          "base_uri": "https://localhost:8080/",
          "height": 9265
        }
      },
      "source": [
        "LemVectorizer.vocabulary_"
      ],
      "execution_count": 10,
      "outputs": [
        {
          "output_type": "execute_result",
          "data": {
            "text/plain": [
              "{'allah': 4,\n",
              " 'beneficent': 18,\n",
              " 'merciful': 102,\n",
              " 'praise': 119,\n",
              " 'lord': 97,\n",
              " 'worldsthe': 169,\n",
              " 'master': 100,\n",
              " 'day': 40,\n",
              " 'judgment': 82,\n",
              " 'thee': 150,\n",
              " 'serve': 137,\n",
              " 'beseech': 19,\n",
              " 'help': 79,\n",
              " 'u': 160,\n",
              " 'right': 129,\n",
              " 'path': 113,\n",
              " 'thou': 151,\n",
              " 'hast': 76,\n",
              " 'bestowed': 20,\n",
              " 'favor': 60,\n",
              " 'thy': 152,\n",
              " 'wrath': 171,\n",
              " 'brought': 27,\n",
              " 'astray': 7,\n",
              " 'alif': 2,\n",
              " 'lam': 86,\n",
              " 'mimthis': 105,\n",
              " 'book': 24,\n",
              " 'doubt': 52,\n",
              " 'guide': 73,\n",
              " 'guard': 71,\n",
              " 'evil': 55,\n",
              " 'believe': 14,\n",
              " 'unseen': 162,\n",
              " 'prayer': 120,\n",
              " 'spend': 143,\n",
              " 'given': 65,\n",
              " 'ha': 74,\n",
              " 'revealed': 128,\n",
              " 'wa': 166,\n",
              " 'sure': 148,\n",
              " 'course': 37,\n",
              " 'shall': 140,\n",
              " 'successful': 146,\n",
              " 'surely': 149,\n",
              " 'disbelieve': 49,\n",
              " 'alike': 3,\n",
              " 'warn': 168,\n",
              " 'believeallah': 15,\n",
              " 'set': 138,\n",
              " 'seal': 132,\n",
              " 'heart': 78,\n",
              " 'hearing': 77,\n",
              " 'covering': 38,\n",
              " 'eye': 57,\n",
              " 'great': 69,\n",
              " 'punishment': 122,\n",
              " 'people': 116,\n",
              " 'say': 131,\n",
              " 'believer': 16,\n",
              " 'desire': 46,\n",
              " 'deceive': 42,\n",
              " 'perceive': 117,\n",
              " 'disease': 50,\n",
              " 'added': 1,\n",
              " 'painful': 111,\n",
              " 'chastisement': 32,\n",
              " 'lied': 93,\n",
              " 'said': 130,\n",
              " 'make': 98,\n",
              " 'mischief': 106,\n",
              " 'land': 87,\n",
              " 'peacemaker': 115,\n",
              " 'maker': 99,\n",
              " 'fool': 63,\n",
              " 'know': 85,\n",
              " 'meet': 101,\n",
              " 'shaitan': 139,\n",
              " 'mocking': 110,\n",
              " 'pay': 114,\n",
              " 'mockery': 109,\n",
              " 'leaf': 89,\n",
              " 'inordinacy': 81,\n",
              " 'blindly': 23,\n",
              " 'wandering': 167,\n",
              " 'buy': 28,\n",
              " 'error': 54,\n",
              " 'direction': 48,\n",
              " 'bargain': 12,\n",
              " 'bring': 26,\n",
              " 'gain': 64,\n",
              " 'follower': 62,\n",
              " 'parable': 112,\n",
              " 'like': 96,\n",
              " 'kindled': 83,\n",
              " 'illumined': 80,\n",
              " 'took': 155,\n",
              " 'away': 11,\n",
              " 'light': 95,\n",
              " 'left': 91,\n",
              " 'utter': 163,\n",
              " 'darkness': 39,\n",
              " 'deaf': 41,\n",
              " 'dumb': 53,\n",
              " 'blind': 22,\n",
              " 'turn': 159,\n",
              " 'belongs': 17,\n",
              " 'god': 66,\n",
              " 'universethe': 161,\n",
              " 'worship': 170,\n",
              " 'seek': 135,\n",
              " 'assistance': 6,\n",
              " 'granted': 68,\n",
              " 'blessing': 21,\n",
              " 'subject': 145,\n",
              " 'anger': 5,\n",
              " 'gone': 67,\n",
              " 'mim': 104,\n",
              " 'pious': 118,\n",
              " 'attend': 8,\n",
              " 'charity': 31,\n",
              " 'faith': 59,\n",
              " 'strong': 144,\n",
              " 'life': 94,\n",
              " 'follow': 61,\n",
              " 'guidance': 72,\n",
              " 'lasting': 88,\n",
              " 'happiness': 75,\n",
              " 'deny': 45,\n",
              " 'message': 103,\n",
              " 'sealed': 133,\n",
              " 'vision': 165,\n",
              " 'veiled': 164,\n",
              " 'awaits': 9,\n",
              " 'true': 158,\n",
              " 'deceived': 43,\n",
              " 'fact': 58,\n",
              " 'aware': 10,\n",
              " 'sickness': 141,\n",
              " 'exists': 56,\n",
              " 'add': 0,\n",
              " 'suffer': 147,\n",
              " 'result': 127,\n",
              " 'lie': 92,\n",
              " 'speakwhen': 142,\n",
              " 'told': 154,\n",
              " 'commit': 33,\n",
              " 'corruption': 36,\n",
              " 'reply': 126,\n",
              " 'reformer': 124,\n",
              " 'certainly': 30,\n",
              " 'corrupt': 35,\n",
              " 'realize': 123,\n",
              " 'doe': 51,\n",
              " 'declare': 44,\n",
              " 'belief': 13,\n",
              " 'secret': 134,\n",
              " 'devil': 47,\n",
              " 'mock': 108,\n",
              " 'time': 153,\n",
              " 'continue': 34,\n",
              " 'transgression': 157,\n",
              " 'traded': 156,\n",
              " 'profit': 121,\n",
              " 'missed': 107,\n",
              " 'case': 29,\n",
              " 'kindles': 84,\n",
              " 'grows': 70,\n",
              " 'bright': 25,\n",
              " 'leaving': 90,\n",
              " 'regain': 125,\n",
              " 'sens': 136}"
            ]
          },
          "metadata": {},
          "execution_count": 10
        }
      ]
    },
    {
      "cell_type": "markdown",
      "metadata": {
        "id": "4sT1TWEz9isW",
        "colab_type": "text"
      },
      "source": [
        "# TF_IDF Calculations"
      ]
    },
    {
      "cell_type": "code",
      "metadata": {
        "id": "0-ujeGArcNrQ",
        "colab_type": "code",
        "outputId": "3921106e-ba16-431f-86a0-53f9af7d8b7c",
        "colab": {
          "base_uri": "https://localhost:8080/",
          "height": 136
        }
      },
      "source": [
        "tf_matrix = LemVectorizer.transform(documents).toarray()\n",
        "print (tf_matrix)"
      ],
      "execution_count": 11,
      "outputs": [
        {
          "output_type": "stream",
          "name": "stdout",
          "text": [
            "[[ 0  1  1  1  7  0  0  1  0  0  0  1  1  0 10  1  1  0  2  1  1  0  1  1\n   1  0  1  1  1  0  0  0  1  0  0  0  0  1  1  1  2  1  2  0  0  0  1  0\n   2  1  2  0  1  1  1  1  0  1  0  0  1  0  1  2  1  1  0  0  0  1  0  1\n   0  1  2  0  1  1  2  1  1  1  1  1  0  1  1  1  0  1  0  1  0  1  0  1\n   1  2  1  1  1  1  2  0  0  1  2  0  0  1  1  1  2  3  1  1  2  2  0  1\n   1  0  1  0  0  0  0  0  2  4  2  5  1  0  0  0  0  1  1  1  5  0  0  1\n   0  0  1  0  1  4  2  1  1  0  0  1  0  0  0  1  1  0  1  1  0  0  1  1\n   2  1  0  1]\n [ 1  0  1  0  1  1  1  1  1  1  1  1  1  1  5  0  3  1  2  0  0  1  1  1\n   1  1  0  0  0  1  1  1  0  1  1  1  1  0  0  1  2  1  1  1  1  1  0  1\n   0  0  0  1  1  1  1  0  1  0  2  2  0  1  0  2  1  0  7  1  2  1  1  0\n   3  2  3  1  0  1  2  0  0  0  2  0  1  1  1  1  1  0  1  0  1  0  1  1\n   1  4  0  0  1  0  2  1  1  0  0  1  1  0  1  1  0  2  0  0  1  0  3  1\n   1  1  2  1  1  1  1  1  1  1  0  3  0  1  1  1  1  0  0  0  0  2  1  0\n   1  1  0  1  0  0  0  0  0  1  2  0  1  1  2  0  1  1  1  0  1  1  0  0\n   1  0  1  0]]\n"
          ]
        }
      ]
    },
    {
      "cell_type": "code",
      "metadata": {
        "id": "5OUjkNUZcUew",
        "colab_type": "code",
        "outputId": "e27ba224-4201-4df8-eac3-e3994c7c4e37",
        "colab": {
          "base_uri": "https://localhost:8080/",
          "height": 34
        }
      },
      "source": [
        "tf_matrix.shape"
      ],
      "execution_count": 12,
      "outputs": [
        {
          "output_type": "execute_result",
          "data": {
            "text/plain": [
              "(2, 172)"
            ]
          },
          "metadata": {},
          "execution_count": 12
        }
      ]
    },
    {
      "cell_type": "code",
      "metadata": {
        "id": "vHdzdt9fcXik",
        "colab_type": "code",
        "outputId": "c4ce6589-5640-486e-8b38-6d7df589b67e",
        "colab": {
          "base_uri": "https://localhost:8080/",
          "height": 1564
        }
      },
      "source": [
        "tfidfTran = TfidfTransformer(norm=\"l2\")\n",
        "tfidfTran.fit(tf_matrix)\n",
        "print (tfidfTran.idf_)"
      ],
      "execution_count": 13,
      "outputs": [
        {
          "output_type": "stream",
          "name": "stdout",
          "text": [
            "[1.40546511 1.40546511 1.         1.40546511 1.         1.40546511\n 1.40546511 1.         1.40546511 1.40546511 1.40546511 1.\n 1.         1.40546511 1.         1.40546511 1.         1.40546511\n 1.         1.40546511 1.40546511 1.40546511 1.         1.\n 1.         1.40546511 1.40546511 1.40546511 1.40546511 1.40546511\n 1.40546511 1.40546511 1.40546511 1.40546511 1.40546511 1.40546511\n 1.40546511 1.40546511 1.40546511 1.         1.         1.\n 1.         1.40546511 1.40546511 1.40546511 1.40546511 1.40546511\n 1.40546511 1.40546511 1.40546511 1.40546511 1.         1.\n 1.         1.40546511 1.40546511 1.40546511 1.40546511 1.40546511\n 1.40546511 1.40546511 1.40546511 1.         1.         1.40546511\n 1.40546511 1.40546511 1.40546511 1.         1.40546511 1.40546511\n 1.40546511 1.         1.         1.40546511 1.40546511 1.\n 1.         1.40546511 1.40546511 1.40546511 1.         1.40546511\n 1.40546511 1.         1.         1.         1.40546511 1.40546511\n 1.40546511 1.40546511 1.40546511 1.40546511 1.40546511 1.\n 1.         1.         1.40546511 1.40546511 1.         1.40546511\n 1.         1.40546511 1.40546511 1.40546511 1.40546511 1.40546511\n 1.40546511 1.40546511 1.         1.         1.40546511 1.\n 1.40546511 1.40546511 1.         1.40546511 1.40546511 1.\n 1.         1.40546511 1.         1.40546511 1.40546511 1.40546511\n 1.40546511 1.40546511 1.         1.         1.40546511 1.\n 1.40546511 1.40546511 1.40546511 1.40546511 1.40546511 1.40546511\n 1.40546511 1.40546511 1.40546511 1.40546511 1.40546511 1.40546511\n 1.40546511 1.40546511 1.40546511 1.40546511 1.40546511 1.40546511\n 1.40546511 1.40546511 1.40546511 1.40546511 1.40546511 1.40546511\n 1.40546511 1.40546511 1.40546511 1.40546511 1.         1.40546511\n 1.         1.40546511 1.40546511 1.40546511 1.40546511 1.40546511\n 1.         1.40546511 1.40546511 1.40546511]\n"
          ]
        }
      ]
    },
    {
      "cell_type": "code",
      "metadata": {
        "id": "Y9mWScxBcb6S",
        "colab_type": "code",
        "outputId": "e867e2db-2792-4389-fba0-8feaf857c1a2",
        "colab": {
          "base_uri": "https://localhost:8080/",
          "height": 51
        }
      },
      "source": [
        "def idf(n,df):\n",
        "    result = math.log((n+1.0)/(df+1.0)) + 1\n",
        "    return result\n",
        "print( \"The idf for terms that appear in one document: \" + str(idf(4,1)))\n",
        "print( \"The idf for terms that appear in two documents: \" + str(idf(4,2)))"
      ],
      "execution_count": 14,
      "outputs": [
        {
          "output_type": "stream",
          "name": "stdout",
          "text": [
            "The idf for terms that appear in one document: 1.916290731874155\nThe idf for terms that appear in two documents: 1.5108256237659907\n"
          ]
        }
      ]
    },
    {
      "cell_type": "code",
      "metadata": {
        "id": "vr019Vnpck6S",
        "colab_type": "code",
        "outputId": "3a0c878d-7f85-45e0-f608-ac63aab4f528",
        "colab": {
          "base_uri": "https://localhost:8080/",
          "height": 136
        }
      },
      "source": [
        "tfidf_matrix = tfidfTran.transform(tf_matrix)\n",
        "print (tfidf_matrix.toarray())"
      ],
      "execution_count": 15,
      "outputs": [
        {
          "output_type": "stream",
          "name": "stdout",
          "text": [
            "[[0.         0.0622922  0.04432141 0.0622922  0.31024988 0.\n  0.         0.04432141 0.         0.         0.         0.04432141\n  0.04432141 0.         0.44321411 0.0622922  0.04432141 0.\n  0.08864282 0.0622922  0.0622922  0.         0.04432141 0.04432141\n  0.04432141 0.         0.0622922  0.0622922  0.0622922  0.\n  0.         0.         0.0622922  0.         0.         0.\n  0.         0.0622922  0.0622922  0.04432141 0.08864282 0.04432141\n  0.08864282 0.         0.         0.         0.0622922  0.\n  0.12458439 0.0622922  0.12458439 0.         0.04432141 0.04432141\n  0.04432141 0.0622922  0.         0.0622922  0.         0.\n  0.0622922  0.         0.0622922  0.08864282 0.04432141 0.0622922\n  0.         0.         0.         0.04432141 0.         0.0622922\n  0.         0.04432141 0.08864282 0.         0.0622922  0.04432141\n  0.08864282 0.0622922  0.0622922  0.0622922  0.04432141 0.0622922\n  0.         0.04432141 0.04432141 0.04432141 0.         0.0622922\n  0.         0.0622922  0.         0.0622922  0.         0.04432141\n  0.04432141 0.08864282 0.0622922  0.0622922  0.04432141 0.0622922\n  0.08864282 0.         0.         0.0622922  0.12458439 0.\n  0.         0.0622922  0.04432141 0.04432141 0.12458439 0.13296423\n  0.0622922  0.0622922  0.08864282 0.12458439 0.         0.04432141\n  0.04432141 0.         0.04432141 0.         0.         0.\n  0.         0.         0.08864282 0.17728565 0.12458439 0.22160706\n  0.0622922  0.         0.         0.         0.         0.0622922\n  0.0622922  0.0622922  0.31146099 0.         0.         0.0622922\n  0.         0.         0.0622922  0.         0.0622922  0.24916879\n  0.12458439 0.0622922  0.0622922  0.         0.         0.0622922\n  0.         0.         0.         0.0622922  0.04432141 0.\n  0.04432141 0.0622922  0.         0.         0.0622922  0.0622922\n  0.08864282 0.0622922  0.         0.0622922 ]\n [0.0678289  0.         0.04826082 0.         0.04826082 0.0678289\n  0.0678289  0.04826082 0.0678289  0.0678289  0.0678289  0.04826082\n  0.04826082 0.0678289  0.2413041  0.         0.14478246 0.0678289\n  0.09652164 0.         0.         0.0678289  0.04826082 0.04826082\n  0.04826082 0.0678289  0.         0.         0.         0.0678289\n  0.0678289  0.0678289  0.         0.0678289  0.0678289  0.0678289\n  0.0678289  0.         0.         0.04826082 0.09652164 0.04826082\n  0.04826082 0.0678289  0.0678289  0.0678289  0.         0.0678289\n  0.         0.         0.         0.0678289  0.04826082 0.04826082\n  0.04826082 0.         0.0678289  0.         0.1356578  0.1356578\n  0.         0.0678289  0.         0.09652164 0.04826082 0.\n  0.47480228 0.0678289  0.1356578  0.04826082 0.0678289  0.\n  0.20348669 0.09652164 0.14478246 0.0678289  0.         0.04826082\n  0.09652164 0.         0.         0.         0.09652164 0.\n  0.0678289  0.04826082 0.04826082 0.04826082 0.0678289  0.\n  0.0678289  0.         0.0678289  0.         0.0678289  0.04826082\n  0.04826082 0.19304328 0.         0.         0.04826082 0.\n  0.09652164 0.0678289  0.0678289  0.         0.         0.0678289\n  0.0678289  0.         0.04826082 0.04826082 0.         0.09652164\n  0.         0.         0.04826082 0.         0.20348669 0.04826082\n  0.04826082 0.0678289  0.09652164 0.0678289  0.0678289  0.0678289\n  0.0678289  0.0678289  0.04826082 0.04826082 0.         0.14478246\n  0.         0.0678289  0.0678289  0.0678289  0.0678289  0.\n  0.         0.         0.         0.1356578  0.0678289  0.\n  0.0678289  0.0678289  0.         0.0678289  0.         0.\n  0.         0.         0.         0.0678289  0.1356578  0.\n  0.0678289  0.0678289  0.1356578  0.         0.04826082 0.0678289\n  0.04826082 0.         0.0678289  0.0678289  0.         0.\n  0.04826082 0.         0.0678289  0.        ]]\n"
          ]
        }
      ]
    },
    {
      "cell_type": "markdown",
      "metadata": {
        "id": "gxESXEGq9qn9",
        "colab_type": "text"
      },
      "source": [
        "# Cosine Similarity Matrix"
      ]
    },
    {
      "cell_type": "code",
      "metadata": {
        "id": "qsaeQ_NccqIo",
        "colab_type": "code",
        "outputId": "7d5810aa-594a-4257-879c-2dc8b6c964d3",
        "colab": {
          "base_uri": "https://localhost:8080/",
          "height": 289
        }
      },
      "source": [
        "cos_similarity_matrix = (tfidf_matrix * tfidf_matrix.T).toarray()\n",
        "print (cos_similarity_matrix)"
      ],
      "execution_count": 20,
      "outputs": [
        {
          "output_type": "stream",
          "name": "stdout",
          "text": [
            "[[1.         0.34223802]\n [0.34223802 1.        ]]\n"
          ]
        }
      ]
    },
    {
      "cell_type": "code",
      "metadata": {
        "id": "4d2_OJHL4M4c",
        "colab_type": "code",
        "outputId": "7323b2d9-9d10-49a4-8303-b01369296041",
        "colab": {
          "base_uri": "https://localhost:8080/",
          "height": 297
        }
      },
      "source": [
        "df = pd.DataFrame(cos_similarity_matrix, index= ['doc1','doc2'], columns=['doc1','doc2'])\n",
        "df"
      ],
      "execution_count": 21,
      "outputs": [
        {
          "output_type": "execute_result",
          "data": {
            "text/plain": [
              "          doc1      doc2\n",
              "doc1  1.000000  0.342238\n",
              "doc2  0.342238  1.000000"
            ],
            "text/html": "<div>\n<style scoped>\n    .dataframe tbody tr th:only-of-type {\n        vertical-align: middle;\n    }\n\n    .dataframe tbody tr th {\n        vertical-align: top;\n    }\n\n    .dataframe thead th {\n        text-align: right;\n    }\n</style>\n<table border=\"1\" class=\"dataframe\">\n  <thead>\n    <tr style=\"text-align: right;\">\n      <th></th>\n      <th>doc1</th>\n      <th>doc2</th>\n    </tr>\n  </thead>\n  <tbody>\n    <tr>\n      <th>doc1</th>\n      <td>1.000000</td>\n      <td>0.342238</td>\n    </tr>\n    <tr>\n      <th>doc2</th>\n      <td>0.342238</td>\n      <td>1.000000</td>\n    </tr>\n  </tbody>\n</table>\n</div>"
          },
          "metadata": {},
          "execution_count": 21
        }
      ]
    },
    {
      "cell_type": "code",
      "metadata": {
        "id": "DHhHHBUh5RCC",
        "colab_type": "code",
        "colab": {}
      },
      "source": [
        "df.to_csv('sim_matrix.csv')"
      ],
      "execution_count": 22,
      "outputs": []
    },
    {
      "cell_type": "code",
      "metadata": {
        "id": "ip1VIxsV9OWr",
        "colab_type": "code",
        "outputId": "e282eb10-4d33-4333-a148-c0821b0df1ec",
        "colab": {
          "base_uri": "https://localhost:8080/",
          "height": 289
        }
      },
      "source": [
        "cos_similarity_matrix"
      ],
      "execution_count": 23,
      "outputs": [
        {
          "output_type": "execute_result",
          "data": {
            "text/plain": [
              "array([[1.        , 0.34223802],\n",
              "       [0.34223802, 1.        ]])"
            ]
          },
          "metadata": {},
          "execution_count": 23
        }
      ]
    },
    {
      "cell_type": "markdown",
      "metadata": {
        "id": "abqCkreo9yYr",
        "colab_type": "text"
      },
      "source": [
        "# Similarity Network Graph "
      ]
    },
    {
      "cell_type": "code",
      "metadata": {
        "id": "U_uY8Jm_1XZ_",
        "colab_type": "code",
        "outputId": "5d2416a8-f831-426b-cf22-863ae80b6552",
        "colab": {
          "base_uri": "https://localhost:8080/",
          "height": 384
        }
      },
      "source": [
        "\n",
        "G = nx.from_numpy_matrix(np.array(cos_similarity_matrix))\n",
        "pos=nx.spring_layout(G)\n",
        "labels = {}\n",
        "for idx, node in enumerate(G.nodes()):\n",
        "    labels[node] = ascii_lowercase[idx]\n",
        "nx.draw_networkx_nodes(G, pos)\n",
        "nx.draw_networkx_edges(G, pos)\n",
        "nx.draw_networkx_labels(G, pos, labels, font_size=16)"
      ],
      "execution_count": 24,
      "outputs": [
        {
          "output_type": "execute_result",
          "data": {
            "text/plain": [
              "{0: Text(0.9999999999999998, 0.45501880346503965, 'a'),\n",
              " 1: Text(-0.9999999999999999, -0.45501880346503965, 'b')}"
            ]
          },
          "metadata": {},
          "execution_count": 24
        },
        {
          "output_type": "display_data",
          "data": {
            "text/plain": "<Figure size 432x288 with 1 Axes>",
            "image/svg+xml": "<?xml version=\"1.0\" encoding=\"utf-8\" standalone=\"no\"?>\r\n<!DOCTYPE svg PUBLIC \"-//W3C//DTD SVG 1.1//EN\"\r\n  \"http://www.w3.org/Graphics/SVG/1.1/DTD/svg11.dtd\">\r\n<!-- Created with matplotlib (https://matplotlib.org/) -->\r\n<svg height=\"231.84pt\" version=\"1.1\" viewBox=\"0 0 349.2 231.84\" width=\"349.2pt\" xmlns=\"http://www.w3.org/2000/svg\" xmlns:xlink=\"http://www.w3.org/1999/xlink\">\r\n <defs>\r\n  <style type=\"text/css\">\r\n*{stroke-linecap:butt;stroke-linejoin:round;}\r\n  </style>\r\n </defs>\r\n <g id=\"figure_1\">\r\n  <g id=\"patch_1\">\r\n   <path d=\"M 0 231.84 \r\nL 349.2 231.84 \r\nL 349.2 0 \r\nL 0 0 \r\nz\r\n\" style=\"fill:none;\"/>\r\n  </g>\r\n  <g id=\"axes_1\">\r\n   <g id=\"patch_2\">\r\n    <path d=\"M 7.2 224.64 \r\nL 342 224.64 \r\nL 342 7.2 \r\nL 7.2 7.2 \r\nz\r\n\" style=\"fill:#ffffff;\"/>\r\n   </g>\r\n   <g id=\"LineCollection_1\">\r\n    <path clip-path=\"url(#pdb25c08f3b)\" d=\"M 322.944596 25.038577 \r\nL 322.944596 25.038577 \r\n\" style=\"fill:none;stroke:#000000;\"/>\r\n    <path clip-path=\"url(#pdb25c08f3b)\" d=\"M 322.944596 25.038577 \r\nL 26.255404 206.801423 \r\n\" style=\"fill:none;stroke:#000000;\"/>\r\n    <path clip-path=\"url(#pdb25c08f3b)\" d=\"M 26.255404 206.801423 \r\nL 26.255404 206.801423 \r\n\" style=\"fill:none;stroke:#000000;\"/>\r\n   </g>\r\n   <g id=\"matplotlib.axis_1\">\r\n    <g id=\"xtick_1\"/>\r\n    <g id=\"xtick_2\"/>\r\n    <g id=\"xtick_3\"/>\r\n    <g id=\"xtick_4\"/>\r\n    <g id=\"xtick_5\"/>\r\n   </g>\r\n   <g id=\"matplotlib.axis_2\">\r\n    <g id=\"ytick_1\"/>\r\n    <g id=\"ytick_2\"/>\r\n    <g id=\"ytick_3\"/>\r\n    <g id=\"ytick_4\"/>\r\n    <g id=\"ytick_5\"/>\r\n   </g>\r\n   <g id=\"PathCollection_1\">\r\n    <defs>\r\n     <path d=\"M 0 8.660254 \r\nC 2.296726 8.660254 4.499694 7.747755 6.123724 6.123724 \r\nC 7.747755 4.499694 8.660254 2.296726 8.660254 0 \r\nC 8.660254 -2.296726 7.747755 -4.499694 6.123724 -6.123724 \r\nC 4.499694 -7.747755 2.296726 -8.660254 0 -8.660254 \r\nC -2.296726 -8.660254 -4.499694 -7.747755 -6.123724 -6.123724 \r\nC -7.747755 -4.499694 -8.660254 -2.296726 -8.660254 0 \r\nC -8.660254 2.296726 -7.747755 4.499694 -6.123724 6.123724 \r\nC -4.499694 7.747755 -2.296726 8.660254 0 8.660254 \r\nz\r\n\" id=\"mefb925c9ac\" style=\"stroke:#1f78b4;\"/>\r\n    </defs>\r\n    <g clip-path=\"url(#pdb25c08f3b)\">\r\n     <use style=\"fill:#1f78b4;stroke:#1f78b4;\" x=\"322.944596\" xlink:href=\"#mefb925c9ac\" y=\"25.038577\"/>\r\n     <use style=\"fill:#1f78b4;stroke:#1f78b4;\" x=\"26.255404\" xlink:href=\"#mefb925c9ac\" y=\"206.801423\"/>\r\n    </g>\r\n   </g>\r\n   <g id=\"patch_3\">\r\n    <path d=\"M 7.2 224.64 \r\nL 7.2 7.2 \r\n\" style=\"fill:none;stroke:#000000;stroke-linecap:square;stroke-linejoin:miter;stroke-width:0.8;\"/>\r\n   </g>\r\n   <g id=\"patch_4\">\r\n    <path d=\"M 342 224.64 \r\nL 342 7.2 \r\n\" style=\"fill:none;stroke:#000000;stroke-linecap:square;stroke-linejoin:miter;stroke-width:0.8;\"/>\r\n   </g>\r\n   <g id=\"patch_5\">\r\n    <path d=\"M 7.2 224.64 \r\nL 342 224.64 \r\n\" style=\"fill:none;stroke:#000000;stroke-linecap:square;stroke-linejoin:miter;stroke-width:0.8;\"/>\r\n   </g>\r\n   <g id=\"patch_6\">\r\n    <path d=\"M 7.2 7.2 \r\nL 342 7.2 \r\n\" style=\"fill:none;stroke:#000000;stroke-linecap:square;stroke-linejoin:miter;stroke-width:0.8;\"/>\r\n   </g>\r\n   <g id=\"text_1\">\r\n    <g clip-path=\"url(#pdb25c08f3b)\">\r\n     <!-- a -->\r\n     <defs>\r\n      <path d=\"M 34.28125 27.484375 \r\nQ 23.390625 27.484375 19.1875 25 \r\nQ 14.984375 22.515625 14.984375 16.5 \r\nQ 14.984375 11.71875 18.140625 8.90625 \r\nQ 21.296875 6.109375 26.703125 6.109375 \r\nQ 34.1875 6.109375 38.703125 11.40625 \r\nQ 43.21875 16.703125 43.21875 25.484375 \r\nL 43.21875 27.484375 \r\nz\r\nM 52.203125 31.203125 \r\nL 52.203125 0 \r\nL 43.21875 0 \r\nL 43.21875 8.296875 \r\nQ 40.140625 3.328125 35.546875 0.953125 \r\nQ 30.953125 -1.421875 24.3125 -1.421875 \r\nQ 15.921875 -1.421875 10.953125 3.296875 \r\nQ 6 8.015625 6 15.921875 \r\nQ 6 25.140625 12.171875 29.828125 \r\nQ 18.359375 34.515625 30.609375 34.515625 \r\nL 43.21875 34.515625 \r\nL 43.21875 35.40625 \r\nQ 43.21875 41.609375 39.140625 45 \r\nQ 35.0625 48.390625 27.6875 48.390625 \r\nQ 23 48.390625 18.546875 47.265625 \r\nQ 14.109375 46.140625 10.015625 43.890625 \r\nL 10.015625 52.203125 \r\nQ 14.9375 54.109375 19.578125 55.046875 \r\nQ 24.21875 56 28.609375 56 \r\nQ 40.484375 56 46.34375 49.84375 \r\nQ 52.203125 43.703125 52.203125 31.203125 \r\nz\r\n\" id=\"DejaVuSans-97\"/>\r\n     </defs>\r\n     <g transform=\"translate(318.042096 29.453577)scale(0.16 -0.16)\">\r\n      <use xlink:href=\"#DejaVuSans-97\"/>\r\n     </g>\r\n    </g>\r\n   </g>\r\n   <g id=\"text_2\">\r\n    <g clip-path=\"url(#pdb25c08f3b)\">\r\n     <!-- b -->\r\n     <defs>\r\n      <path d=\"M 48.6875 27.296875 \r\nQ 48.6875 37.203125 44.609375 42.84375 \r\nQ 40.53125 48.484375 33.40625 48.484375 \r\nQ 26.265625 48.484375 22.1875 42.84375 \r\nQ 18.109375 37.203125 18.109375 27.296875 \r\nQ 18.109375 17.390625 22.1875 11.75 \r\nQ 26.265625 6.109375 33.40625 6.109375 \r\nQ 40.53125 6.109375 44.609375 11.75 \r\nQ 48.6875 17.390625 48.6875 27.296875 \r\nz\r\nM 18.109375 46.390625 \r\nQ 20.953125 51.265625 25.265625 53.625 \r\nQ 29.59375 56 35.59375 56 \r\nQ 45.5625 56 51.78125 48.09375 \r\nQ 58.015625 40.1875 58.015625 27.296875 \r\nQ 58.015625 14.40625 51.78125 6.484375 \r\nQ 45.5625 -1.421875 35.59375 -1.421875 \r\nQ 29.59375 -1.421875 25.265625 0.953125 \r\nQ 20.953125 3.328125 18.109375 8.203125 \r\nL 18.109375 0 \r\nL 9.078125 0 \r\nL 9.078125 75.984375 \r\nL 18.109375 75.984375 \r\nz\r\n\" id=\"DejaVuSans-98\"/>\r\n     </defs>\r\n     <g transform=\"translate(21.176654 211.216423)scale(0.16 -0.16)\">\r\n      <use xlink:href=\"#DejaVuSans-98\"/>\r\n     </g>\r\n    </g>\r\n   </g>\r\n  </g>\r\n </g>\r\n <defs>\r\n  <clipPath id=\"pdb25c08f3b\">\r\n   <rect height=\"217.44\" width=\"334.8\" x=\"7.2\" y=\"7.2\"/>\r\n  </clipPath>\r\n </defs>\r\n</svg>\r\n",
            "image/png": "[encoded data removed]"
          },
          "metadata": {}
        }
      ]
    },
    {
      "cell_type": "markdown",
      "metadata": {
        "id": "xKnqB5b0-IAl",
        "colab_type": "text"
      },
      "source": [
        "# Soft Cosine Similarity"
      ]
    },
    {
      "cell_type": "markdown",
      "metadata": {
        "id": "eYRAsbhW95c1",
        "colab_type": "text"
      },
      "source": [
        "## Importing Libraries and Downloading FastText pre-trained embeddings"
      ]
    },
    {
      "cell_type": "code",
      "execution_count": 27,
      "metadata": {},
      "outputs": [
        {
          "output_type": "stream",
          "name": "stdout",
          "text": [
            "Collecting gensim\n",
            "  Downloading gensim-3.8.3-cp37-cp37m-win_amd64.whl (24.2 MB)\n",
            "Collecting Cython==0.29.14\n",
            "  Downloading Cython-0.29.14-cp37-cp37m-win_amd64.whl (1.7 MB)\n",
            "Requirement already satisfied: scipy>=0.18.1 in c:\\users\\administrator\\anaconda3\\lib\\site-packages (from gensim) (1.4.1)\n",
            "Collecting smart-open>=1.8.1\n",
            "  Downloading smart_open-4.2.0.tar.gz (119 kB)\n",
            "Requirement already satisfied: six>=1.5.0 in c:\\users\\administrator\\anaconda3\\lib\\site-packages (from gensim) (1.14.0)\n",
            "Requirement already satisfied: numpy>=1.11.3 in c:\\users\\administrator\\anaconda3\\lib\\site-packages (from gensim) (1.18.1)\n",
            "Building wheels for collected packages: smart-open\n",
            "  Building wheel for smart-open (setup.py): started\n",
            "  Building wheel for smart-open (setup.py): finished with status 'done'\n",
            "  Created wheel for smart-open: filename=smart_open-4.2.0-py3-none-any.whl size=109637 sha256=3a13a6646f21a88deb6d01ab78e4ff4f0e382ce7fd6b31a947bd96a4965098c1\n",
            "  Stored in directory: c:\\users\\administrator\\appdata\\local\\pip\\cache\\wheels\\25\\88\\e3\\7cd51a6379cac37213cac47545a27688782752ff66351b953d\n",
            "Successfully built smart-open\n",
            "Installing collected packages: Cython, smart-open, gensim\n",
            "  Attempting uninstall: Cython\n",
            "    Found existing installation: Cython 0.29.15\n",
            "    Uninstalling Cython-0.29.15:\n",
            "      Successfully uninstalled Cython-0.29.15\n",
            "Successfully installed Cython-0.29.14 gensim-3.8.3 smart-open-4.2.0\n",
            "  WARNING: The scripts cygdb.exe, cython.exe and cythonize.exe are installed in 'C:\\Users\\Administrator\\anaconda3\\Scripts' which is not on PATH.\n",
            "  Consider adding this directory to PATH or, if you prefer to suppress this warning, use --no-warn-script-location.\n"
          ]
        }
      ],
      "source": [
        "!pip install gensim"
      ]
    },
    {
      "cell_type": "code",
      "metadata": {
        "id": "iBLnQtABKPvx",
        "colab_type": "code",
        "colab": {}
      },
      "source": [
        "#SOFT COSINE\n",
        "\n",
        "import gensim\n",
        "# upgrade gensim if you can't import softcossim\n",
        "from gensim.matutils import softcossim \n",
        "from gensim import corpora\n",
        "import gensim.downloader as api\n",
        "from gensim.utils import simple_preprocess\n",
        "print(gensim.__version__)\n",
        "#> '3.6.0'\n",
        "\n",
        "# Download the FastText model\n",
        "fasttext_model300 = api.load('fasttext-wiki-news-subwords-300')"
      ],
      "execution_count": 39,
      "outputs": [
        {
          "output_type": "stream",
          "name": "stdout",
          "text": [
            "3.8.3\n"
          ]
        },
        {
          "output_type": "error",
          "ename": "KeyboardInterrupt",
          "evalue": "",
          "traceback": [
            "\u001b[1;31m---------------------------------------------------------------------------\u001b[0m",
            "\u001b[1;31mKeyboardInterrupt\u001b[0m                         Traceback (most recent call last)",
            "\u001b[1;32m<ipython-input-39-e152ea8dfd35>\u001b[0m in \u001b[0;36m<module>\u001b[1;34m\u001b[0m\n\u001b[0;32m     11\u001b[0m \u001b[1;33m\u001b[0m\u001b[0m\n\u001b[0;32m     12\u001b[0m \u001b[1;31m# Download the FastText model\u001b[0m\u001b[1;33m\u001b[0m\u001b[1;33m\u001b[0m\u001b[1;33m\u001b[0m\u001b[0m\n\u001b[1;32m---> 13\u001b[1;33m \u001b[0mfasttext_model300\u001b[0m \u001b[1;33m=\u001b[0m \u001b[0mapi\u001b[0m\u001b[1;33m.\u001b[0m\u001b[0mload\u001b[0m\u001b[1;33m(\u001b[0m\u001b[1;34m'fasttext-wiki-news-subwords-300'\u001b[0m\u001b[1;33m)\u001b[0m\u001b[1;33m\u001b[0m\u001b[1;33m\u001b[0m\u001b[0m\n\u001b[0m",
            "\u001b[1;32m~\\anaconda3\\lib\\site-packages\\gensim\\downloader.py\u001b[0m in \u001b[0;36mload\u001b[1;34m(name, return_path)\u001b[0m\n\u001b[0;32m    500\u001b[0m         \u001b[0msys\u001b[0m\u001b[1;33m.\u001b[0m\u001b[0mpath\u001b[0m\u001b[1;33m.\u001b[0m\u001b[0minsert\u001b[0m\u001b[1;33m(\u001b[0m\u001b[1;36m0\u001b[0m\u001b[1;33m,\u001b[0m \u001b[0mBASE_DIR\u001b[0m\u001b[1;33m)\u001b[0m\u001b[1;33m\u001b[0m\u001b[1;33m\u001b[0m\u001b[0m\n\u001b[0;32m    501\u001b[0m         \u001b[0mmodule\u001b[0m \u001b[1;33m=\u001b[0m \u001b[0m__import__\u001b[0m\u001b[1;33m(\u001b[0m\u001b[0mname\u001b[0m\u001b[1;33m)\u001b[0m\u001b[1;33m\u001b[0m\u001b[1;33m\u001b[0m\u001b[0m\n\u001b[1;32m--> 502\u001b[1;33m         \u001b[1;32mreturn\u001b[0m \u001b[0mmodule\u001b[0m\u001b[1;33m.\u001b[0m\u001b[0mload_data\u001b[0m\u001b[1;33m(\u001b[0m\u001b[1;33m)\u001b[0m\u001b[1;33m\u001b[0m\u001b[1;33m\u001b[0m\u001b[0m\n\u001b[0m\u001b[0;32m    503\u001b[0m \u001b[1;33m\u001b[0m\u001b[0m\n\u001b[0;32m    504\u001b[0m \u001b[1;33m\u001b[0m\u001b[0m\n",
            "\u001b[1;32m~/gensim-data\\fasttext-wiki-news-subwords-300\\__init__.py\u001b[0m in \u001b[0;36mload_data\u001b[1;34m()\u001b[0m\n\u001b[0;32m      6\u001b[0m \u001b[1;32mdef\u001b[0m \u001b[0mload_data\u001b[0m\u001b[1;33m(\u001b[0m\u001b[1;33m)\u001b[0m\u001b[1;33m:\u001b[0m\u001b[1;33m\u001b[0m\u001b[1;33m\u001b[0m\u001b[0m\n\u001b[0;32m      7\u001b[0m     \u001b[0mpath\u001b[0m \u001b[1;33m=\u001b[0m \u001b[0mos\u001b[0m\u001b[1;33m.\u001b[0m\u001b[0mpath\u001b[0m\u001b[1;33m.\u001b[0m\u001b[0mjoin\u001b[0m\u001b[1;33m(\u001b[0m\u001b[0mbase_dir\u001b[0m\u001b[1;33m,\u001b[0m \u001b[1;34m'fasttext-wiki-news-subwords-300'\u001b[0m\u001b[1;33m,\u001b[0m \u001b[1;34m\"fasttext-wiki-news-subwords-300.gz\"\u001b[0m\u001b[1;33m)\u001b[0m\u001b[1;33m\u001b[0m\u001b[1;33m\u001b[0m\u001b[0m\n\u001b[1;32m----> 8\u001b[1;33m     \u001b[0mmodel\u001b[0m \u001b[1;33m=\u001b[0m \u001b[0mKeyedVectors\u001b[0m\u001b[1;33m.\u001b[0m\u001b[0mload_word2vec_format\u001b[0m\u001b[1;33m(\u001b[0m\u001b[0mpath\u001b[0m\u001b[1;33m,\u001b[0m \u001b[0mbinary\u001b[0m\u001b[1;33m=\u001b[0m\u001b[1;32mFalse\u001b[0m\u001b[1;33m)\u001b[0m\u001b[1;33m\u001b[0m\u001b[1;33m\u001b[0m\u001b[0m\n\u001b[0m\u001b[0;32m      9\u001b[0m     \u001b[1;32mreturn\u001b[0m \u001b[0mmodel\u001b[0m\u001b[1;33m\u001b[0m\u001b[1;33m\u001b[0m\u001b[0m\n",
            "\u001b[1;32m~\\anaconda3\\lib\\site-packages\\gensim\\models\\keyedvectors.py\u001b[0m in \u001b[0;36mload_word2vec_format\u001b[1;34m(cls, fname, fvocab, binary, encoding, unicode_errors, limit, datatype)\u001b[0m\n\u001b[0;32m   1547\u001b[0m         return _load_word2vec_format(\n\u001b[0;32m   1548\u001b[0m             \u001b[0mcls\u001b[0m\u001b[1;33m,\u001b[0m \u001b[0mfname\u001b[0m\u001b[1;33m,\u001b[0m \u001b[0mfvocab\u001b[0m\u001b[1;33m=\u001b[0m\u001b[0mfvocab\u001b[0m\u001b[1;33m,\u001b[0m \u001b[0mbinary\u001b[0m\u001b[1;33m=\u001b[0m\u001b[0mbinary\u001b[0m\u001b[1;33m,\u001b[0m \u001b[0mencoding\u001b[0m\u001b[1;33m=\u001b[0m\u001b[0mencoding\u001b[0m\u001b[1;33m,\u001b[0m \u001b[0municode_errors\u001b[0m\u001b[1;33m=\u001b[0m\u001b[0municode_errors\u001b[0m\u001b[1;33m,\u001b[0m\u001b[1;33m\u001b[0m\u001b[1;33m\u001b[0m\u001b[0m\n\u001b[1;32m-> 1549\u001b[1;33m             limit=limit, datatype=datatype)\n\u001b[0m\u001b[0;32m   1550\u001b[0m \u001b[1;33m\u001b[0m\u001b[0m\n\u001b[0;32m   1551\u001b[0m     \u001b[1;33m@\u001b[0m\u001b[0mclassmethod\u001b[0m\u001b[1;33m\u001b[0m\u001b[1;33m\u001b[0m\u001b[0m\n",
            "\u001b[1;32m~\\anaconda3\\lib\\site-packages\\gensim\\models\\utils_any2vec.py\u001b[0m in \u001b[0;36m_load_word2vec_format\u001b[1;34m(cls, fname, fvocab, binary, encoding, unicode_errors, limit, datatype, binary_chunk_size)\u001b[0m\n\u001b[0;32m    286\u001b[0m                 vocab_size, vector_size, datatype, unicode_errors, binary_chunk_size)\n\u001b[0;32m    287\u001b[0m         \u001b[1;32melse\u001b[0m\u001b[1;33m:\u001b[0m\u001b[1;33m\u001b[0m\u001b[1;33m\u001b[0m\u001b[0m\n\u001b[1;32m--> 288\u001b[1;33m             \u001b[0m_word2vec_read_text\u001b[0m\u001b[1;33m(\u001b[0m\u001b[0mfin\u001b[0m\u001b[1;33m,\u001b[0m \u001b[0mresult\u001b[0m\u001b[1;33m,\u001b[0m \u001b[0mcounts\u001b[0m\u001b[1;33m,\u001b[0m \u001b[0mvocab_size\u001b[0m\u001b[1;33m,\u001b[0m \u001b[0mvector_size\u001b[0m\u001b[1;33m,\u001b[0m \u001b[0mdatatype\u001b[0m\u001b[1;33m,\u001b[0m \u001b[0municode_errors\u001b[0m\u001b[1;33m,\u001b[0m \u001b[0mencoding\u001b[0m\u001b[1;33m)\u001b[0m\u001b[1;33m\u001b[0m\u001b[1;33m\u001b[0m\u001b[0m\n\u001b[0m\u001b[0;32m    289\u001b[0m     \u001b[1;32mif\u001b[0m \u001b[0mresult\u001b[0m\u001b[1;33m.\u001b[0m\u001b[0mvectors\u001b[0m\u001b[1;33m.\u001b[0m\u001b[0mshape\u001b[0m\u001b[1;33m[\u001b[0m\u001b[1;36m0\u001b[0m\u001b[1;33m]\u001b[0m \u001b[1;33m!=\u001b[0m \u001b[0mlen\u001b[0m\u001b[1;33m(\u001b[0m\u001b[0mresult\u001b[0m\u001b[1;33m.\u001b[0m\u001b[0mvocab\u001b[0m\u001b[1;33m)\u001b[0m\u001b[1;33m:\u001b[0m\u001b[1;33m\u001b[0m\u001b[1;33m\u001b[0m\u001b[0m\n\u001b[0;32m    290\u001b[0m         logger.info(\n",
            "\u001b[1;32m~\\anaconda3\\lib\\site-packages\\gensim\\models\\utils_any2vec.py\u001b[0m in \u001b[0;36m_word2vec_read_text\u001b[1;34m(fin, result, counts, vocab_size, vector_size, datatype, unicode_errors, encoding)\u001b[0m\n\u001b[0;32m    213\u001b[0m \u001b[1;32mdef\u001b[0m \u001b[0m_word2vec_read_text\u001b[0m\u001b[1;33m(\u001b[0m\u001b[0mfin\u001b[0m\u001b[1;33m,\u001b[0m \u001b[0mresult\u001b[0m\u001b[1;33m,\u001b[0m \u001b[0mcounts\u001b[0m\u001b[1;33m,\u001b[0m \u001b[0mvocab_size\u001b[0m\u001b[1;33m,\u001b[0m \u001b[0mvector_size\u001b[0m\u001b[1;33m,\u001b[0m \u001b[0mdatatype\u001b[0m\u001b[1;33m,\u001b[0m \u001b[0municode_errors\u001b[0m\u001b[1;33m,\u001b[0m \u001b[0mencoding\u001b[0m\u001b[1;33m)\u001b[0m\u001b[1;33m:\u001b[0m\u001b[1;33m\u001b[0m\u001b[1;33m\u001b[0m\u001b[0m\n\u001b[0;32m    214\u001b[0m     \u001b[1;32mfor\u001b[0m \u001b[0mline_no\u001b[0m \u001b[1;32min\u001b[0m \u001b[0mrange\u001b[0m\u001b[1;33m(\u001b[0m\u001b[0mvocab_size\u001b[0m\u001b[1;33m)\u001b[0m\u001b[1;33m:\u001b[0m\u001b[1;33m\u001b[0m\u001b[1;33m\u001b[0m\u001b[0m\n\u001b[1;32m--> 215\u001b[1;33m         \u001b[0mline\u001b[0m \u001b[1;33m=\u001b[0m \u001b[0mfin\u001b[0m\u001b[1;33m.\u001b[0m\u001b[0mreadline\u001b[0m\u001b[1;33m(\u001b[0m\u001b[1;33m)\u001b[0m\u001b[1;33m\u001b[0m\u001b[1;33m\u001b[0m\u001b[0m\n\u001b[0m\u001b[0;32m    216\u001b[0m         \u001b[1;32mif\u001b[0m \u001b[0mline\u001b[0m \u001b[1;33m==\u001b[0m \u001b[1;34mb''\u001b[0m\u001b[1;33m:\u001b[0m\u001b[1;33m\u001b[0m\u001b[1;33m\u001b[0m\u001b[0m\n\u001b[0;32m    217\u001b[0m             \u001b[1;32mraise\u001b[0m \u001b[0mEOFError\u001b[0m\u001b[1;33m(\u001b[0m\u001b[1;34m\"unexpected end of input; is count incorrect or file otherwise damaged?\"\u001b[0m\u001b[1;33m)\u001b[0m\u001b[1;33m\u001b[0m\u001b[1;33m\u001b[0m\u001b[0m\n",
            "\u001b[1;32m~\\anaconda3\\lib\\gzip.py\u001b[0m in \u001b[0;36mreadline\u001b[1;34m(self, size)\u001b[0m\n\u001b[0;32m    372\u001b[0m     \u001b[1;32mdef\u001b[0m \u001b[0mreadline\u001b[0m\u001b[1;33m(\u001b[0m\u001b[0mself\u001b[0m\u001b[1;33m,\u001b[0m \u001b[0msize\u001b[0m\u001b[1;33m=\u001b[0m\u001b[1;33m-\u001b[0m\u001b[1;36m1\u001b[0m\u001b[1;33m)\u001b[0m\u001b[1;33m:\u001b[0m\u001b[1;33m\u001b[0m\u001b[1;33m\u001b[0m\u001b[0m\n\u001b[0;32m    373\u001b[0m         \u001b[0mself\u001b[0m\u001b[1;33m.\u001b[0m\u001b[0m_check_not_closed\u001b[0m\u001b[1;33m(\u001b[0m\u001b[1;33m)\u001b[0m\u001b[1;33m\u001b[0m\u001b[1;33m\u001b[0m\u001b[0m\n\u001b[1;32m--> 374\u001b[1;33m         \u001b[1;32mreturn\u001b[0m \u001b[0mself\u001b[0m\u001b[1;33m.\u001b[0m\u001b[0m_buffer\u001b[0m\u001b[1;33m.\u001b[0m\u001b[0mreadline\u001b[0m\u001b[1;33m(\u001b[0m\u001b[0msize\u001b[0m\u001b[1;33m)\u001b[0m\u001b[1;33m\u001b[0m\u001b[1;33m\u001b[0m\u001b[0m\n\u001b[0m\u001b[0;32m    375\u001b[0m \u001b[1;33m\u001b[0m\u001b[0m\n\u001b[0;32m    376\u001b[0m \u001b[1;33m\u001b[0m\u001b[0m\n",
            "\u001b[1;32m~\\anaconda3\\lib\\_compression.py\u001b[0m in \u001b[0;36mreadinto\u001b[1;34m(self, b)\u001b[0m\n\u001b[0;32m     66\u001b[0m     \u001b[1;32mdef\u001b[0m \u001b[0mreadinto\u001b[0m\u001b[1;33m(\u001b[0m\u001b[0mself\u001b[0m\u001b[1;33m,\u001b[0m \u001b[0mb\u001b[0m\u001b[1;33m)\u001b[0m\u001b[1;33m:\u001b[0m\u001b[1;33m\u001b[0m\u001b[1;33m\u001b[0m\u001b[0m\n\u001b[0;32m     67\u001b[0m         \u001b[1;32mwith\u001b[0m \u001b[0mmemoryview\u001b[0m\u001b[1;33m(\u001b[0m\u001b[0mb\u001b[0m\u001b[1;33m)\u001b[0m \u001b[1;32mas\u001b[0m \u001b[0mview\u001b[0m\u001b[1;33m,\u001b[0m \u001b[0mview\u001b[0m\u001b[1;33m.\u001b[0m\u001b[0mcast\u001b[0m\u001b[1;33m(\u001b[0m\u001b[1;34m\"B\"\u001b[0m\u001b[1;33m)\u001b[0m \u001b[1;32mas\u001b[0m \u001b[0mbyte_view\u001b[0m\u001b[1;33m:\u001b[0m\u001b[1;33m\u001b[0m\u001b[1;33m\u001b[0m\u001b[0m\n\u001b[1;32m---> 68\u001b[1;33m             \u001b[0mdata\u001b[0m \u001b[1;33m=\u001b[0m \u001b[0mself\u001b[0m\u001b[1;33m.\u001b[0m\u001b[0mread\u001b[0m\u001b[1;33m(\u001b[0m\u001b[0mlen\u001b[0m\u001b[1;33m(\u001b[0m\u001b[0mbyte_view\u001b[0m\u001b[1;33m)\u001b[0m\u001b[1;33m)\u001b[0m\u001b[1;33m\u001b[0m\u001b[1;33m\u001b[0m\u001b[0m\n\u001b[0m\u001b[0;32m     69\u001b[0m             \u001b[0mbyte_view\u001b[0m\u001b[1;33m[\u001b[0m\u001b[1;33m:\u001b[0m\u001b[0mlen\u001b[0m\u001b[1;33m(\u001b[0m\u001b[0mdata\u001b[0m\u001b[1;33m)\u001b[0m\u001b[1;33m]\u001b[0m \u001b[1;33m=\u001b[0m \u001b[0mdata\u001b[0m\u001b[1;33m\u001b[0m\u001b[1;33m\u001b[0m\u001b[0m\n\u001b[0;32m     70\u001b[0m         \u001b[1;32mreturn\u001b[0m \u001b[0mlen\u001b[0m\u001b[1;33m(\u001b[0m\u001b[0mdata\u001b[0m\u001b[1;33m)\u001b[0m\u001b[1;33m\u001b[0m\u001b[1;33m\u001b[0m\u001b[0m\n",
            "\u001b[1;32m~\\anaconda3\\lib\\gzip.py\u001b[0m in \u001b[0;36mread\u001b[1;34m(self, size)\u001b[0m\n\u001b[0;32m    469\u001b[0m             \u001b[0mbuf\u001b[0m \u001b[1;33m=\u001b[0m \u001b[0mself\u001b[0m\u001b[1;33m.\u001b[0m\u001b[0m_fp\u001b[0m\u001b[1;33m.\u001b[0m\u001b[0mread\u001b[0m\u001b[1;33m(\u001b[0m\u001b[0mio\u001b[0m\u001b[1;33m.\u001b[0m\u001b[0mDEFAULT_BUFFER_SIZE\u001b[0m\u001b[1;33m)\u001b[0m\u001b[1;33m\u001b[0m\u001b[1;33m\u001b[0m\u001b[0m\n\u001b[0;32m    470\u001b[0m \u001b[1;33m\u001b[0m\u001b[0m\n\u001b[1;32m--> 471\u001b[1;33m             \u001b[0muncompress\u001b[0m \u001b[1;33m=\u001b[0m \u001b[0mself\u001b[0m\u001b[1;33m.\u001b[0m\u001b[0m_decompressor\u001b[0m\u001b[1;33m.\u001b[0m\u001b[0mdecompress\u001b[0m\u001b[1;33m(\u001b[0m\u001b[0mbuf\u001b[0m\u001b[1;33m,\u001b[0m \u001b[0msize\u001b[0m\u001b[1;33m)\u001b[0m\u001b[1;33m\u001b[0m\u001b[1;33m\u001b[0m\u001b[0m\n\u001b[0m\u001b[0;32m    472\u001b[0m             \u001b[1;32mif\u001b[0m \u001b[0mself\u001b[0m\u001b[1;33m.\u001b[0m\u001b[0m_decompressor\u001b[0m\u001b[1;33m.\u001b[0m\u001b[0munconsumed_tail\u001b[0m \u001b[1;33m!=\u001b[0m \u001b[1;34mb\"\"\u001b[0m\u001b[1;33m:\u001b[0m\u001b[1;33m\u001b[0m\u001b[1;33m\u001b[0m\u001b[0m\n\u001b[0;32m    473\u001b[0m                 \u001b[0mself\u001b[0m\u001b[1;33m.\u001b[0m\u001b[0m_fp\u001b[0m\u001b[1;33m.\u001b[0m\u001b[0mprepend\u001b[0m\u001b[1;33m(\u001b[0m\u001b[0mself\u001b[0m\u001b[1;33m.\u001b[0m\u001b[0m_decompressor\u001b[0m\u001b[1;33m.\u001b[0m\u001b[0munconsumed_tail\u001b[0m\u001b[1;33m)\u001b[0m\u001b[1;33m\u001b[0m\u001b[1;33m\u001b[0m\u001b[0m\n",
            "\u001b[1;31mKeyboardInterrupt\u001b[0m: "
          ]
        }
      ]
    },
    {
      "cell_type": "markdown",
      "metadata": {
        "id": "WzAu_gDV-QKq",
        "colab_type": "text"
      },
      "source": [
        "## Preparing Documents for Similarity Calculations"
      ]
    },
    {
      "cell_type": "code",
      "execution_count": null,
      "metadata": {},
      "outputs": [],
      "source": [
        "d1"
      ]
    },
    {
      "cell_type": "code",
      "metadata": {
        "id": "K3moCAQFuIkW",
        "colab_type": "code",
        "outputId": "a71575a0-e4a9-4e43-d85c-c3aab721dde7",
        "colab": {
          "base_uri": "https://localhost:8080/",
          "height": 71
        }
      },
      "source": [
        "# Prepare a dictionary and a corpus.\n",
        "dictionary = corpora.Dictionary([simple_preprocess(doc) for doc in documents])\n",
        "\n",
        "# Prepare the similarity matrix\n",
        "similarity_matrix = fasttext_model300.similarity_matrix(dictionary, tfidf=None, threshold=0.0, exponent=2.0, nonzero_limit=100)\n",
        "\n",
        "# Convert the sentences into bag-of-words vectors.\n",
        "sent_1 = dictionary.doc2bow(simple_preprocess(d1))\n",
        "sent_2 = dictionary.doc2bow(simple_preprocess(d2))\n",
        "\n",
        "\n",
        "sentences = [sent_1, sent_2]"
      ],
      "execution_count": null,
      "outputs": []
    },
    {
      "cell_type": "markdown",
      "metadata": {
        "id": "M7TsPY37-ehP",
        "colab_type": "text"
      },
      "source": [
        "## Soft Cosine Similarity Matrix"
      ]
    },
    {
      "cell_type": "code",
      "metadata": {
        "id": "UItxHIDCvasg",
        "colab_type": "code",
        "colab": {}
      },
      "source": [
        "import numpy as np\n",
        "import pandas as pd\n",
        "\n",
        "def create_soft_cossim_matrix(sentences):\n",
        "    len_array = np.arange(len(sentences))\n",
        "    xx, yy = np.meshgrid(len_array, len_array)\n",
        "    cossim_mat = pd.DataFrame([[round(softcossim(sentences[i],sentences[j], similarity_matrix) ,2) for i, j in zip(x,y)] for y, x in zip(xx, yy)])\n",
        "    return cossim_mat\n",
        "\n",
        "soft = create_soft_cossim_matrix(sentences)"
      ],
      "execution_count": null,
      "outputs": []
    },
    {
      "cell_type": "code",
      "metadata": {
        "id": "UF-znPOf5GF0",
        "colab_type": "code",
        "outputId": "0c34b56f-9ebb-472a-8d42-ff0c3e8ff100",
        "colab": {
          "base_uri": "https://localhost:8080/",
          "height": 297
        }
      },
      "source": [
        "soft"
      ],
      "execution_count": null,
      "outputs": []
    },
    {
      "cell_type": "markdown",
      "metadata": {
        "id": "8XtUBbGd-pBe",
        "colab_type": "text"
      },
      "source": [
        "# Soft Cosine Similarity Network Graph"
      ]
    },
    {
      "cell_type": "code",
      "metadata": {
        "id": "UT3mLCUG4bEQ",
        "colab_type": "code",
        "outputId": "6df35bcb-ee2f-4f9c-c744-0109012fa088",
        "colab": {
          "base_uri": "https://localhost:8080/",
          "height": 384
        }
      },
      "source": [
        "import networkx as nx\n",
        "import numpy as np\n",
        "\n",
        "from networkx.generators.small import krackhardt_kite_graph\n",
        "from string import ascii_lowercase\n",
        "G = nx.from_numpy_matrix(np.array(soft))\n",
        "pos=nx.spring_layout(G)\n",
        "labels = {}\n",
        "for idx, node in enumerate(G.nodes()):\n",
        "    labels[node] = ascii_lowercase[idx]\n",
        "nx.draw_networkx_nodes(G, pos)\n",
        "nx.draw_networkx_edges(G, pos)\n",
        "nx.draw_networkx_labels(G, pos, labels, font_size=16)"
      ],
      "execution_count": null,
      "outputs": []
    },
    {
      "cell_type": "markdown",
      "metadata": {
        "id": "c1SW7T0N-0y3",
        "colab_type": "text"
      },
      "source": [
        "# Evaluations and Results"
      ]
    },
    {
      "cell_type": "code",
      "metadata": {
        "id": "KamYUOwGOBbO",
        "colab_type": "code",
        "outputId": "60d63df4-9487-4511-fa6d-769a4f2b7456",
        "colab": {
          "base_uri": "https://localhost:8080/",
          "height": 34
        }
      },
      "source": [
        "from sklearn.cluster import AgglomerativeClustering\n",
        "import numpy as np\n",
        "X = np.array(soft) # soft can be replaced with cos_similarity_matrix to generate its Dendogram and clusters\n",
        "clustering = AgglomerativeClustering( n_clusters=3).fit(X)\n",
        "\n",
        "AgglomerativeClustering(n_clusters=3)\n",
        "clustering.labels_\n"
      ],
      "execution_count": null,
      "outputs": []
    },
    {
      "cell_type": "code",
      "metadata": {
        "id": "H789xlFfed4A",
        "colab_type": "code",
        "outputId": "9ec0a9f4-a19e-4f43-9180-e06d1b213612",
        "colab": {
          "base_uri": "https://localhost:8080/",
          "height": 34
        }
      },
      "source": [
        "from scipy.cluster.hierarchy import dendrogram, linkage\n",
        "from matplotlib import pyplot as plt\n",
        "X = [[i] for i in clustering.labels_]\n",
        "X"
      ],
      "execution_count": null,
      "outputs": []
    },
    {
      "cell_type": "code",
      "metadata": {
        "id": "_9ZZFCOWfGmE",
        "colab_type": "code",
        "outputId": "299b7277-7209-4e22-faf2-490092bf8f86",
        "colab": {
          "base_uri": "https://localhost:8080/",
          "height": 268
        }
      },
      "source": [
        "Z = linkage(X, 'single')\n",
        "fig = plt.figure()\n",
        "dn = dendrogram(Z)"
      ],
      "execution_count": null,
      "outputs": []
    },
    {
      "cell_type": "markdown",
      "metadata": {
        "id": "kAF6XhVE_PUa",
        "colab_type": "text"
      },
      "source": [
        "## Accuracy"
      ]
    },
    {
      "cell_type": "code",
      "metadata": {
        "id": "vdr3ek6pfTlu",
        "colab_type": "code",
        "colab": {}
      },
      "source": [
        "Cos_Clusters_Predicted =  [[1], [1], [1], [2], [0], [2], [0], [1]]\n",
        "Soft_Clusters_Predicted = [[2], [2], [2], [0], [0], [0], [0], [1]]\n",
        "\n",
        "Cos_Clusters_Actual =  [[1], [1], [1], [2], [2], [2], [0], [0]]\n",
        "Soft_Clusters_Actual = [[2], [2], [2], [0], [0], [0], [1], [1]]\n"
      ],
      "execution_count": null,
      "outputs": []
    },
    {
      "cell_type": "markdown",
      "metadata": {
        "id": "dr6HEcmW_9ar",
        "colab_type": "text"
      },
      "source": [
        "Accuracy or Correct Rate\n",
        "\n",
        "![image.png](data:image/png;base64,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)"
      ]
    },
    {
      "cell_type": "code",
      "metadata": {
        "id": "R7zv1lp6AEog",
        "colab_type": "code",
        "colab": {}
      },
      "source": [
        "Soft_Accuracy = 7/8 * 100\n",
        "Cos_Accuracy = 7/8 * 100"
      ],
      "execution_count": null,
      "outputs": []
    },
    {
      "cell_type": "code",
      "metadata": {
        "id": "F1mYbwayG8v4",
        "colab_type": "code",
        "colab": {
          "base_uri": "https://localhost:8080/",
          "height": 51
        },
        "outputId": "47165f42-9600-49c5-8ccc-694e188abc3d"
      },
      "source": [
        "print(\"Soft Cosine Accuracy: \", Soft_Accuracy)\n",
        "\n",
        "print(\"Cosine Accuracy: \", Cos_Accuracy)"
      ],
      "execution_count": null,
      "outputs": []
    },
    {
      "cell_type": "code",
      "metadata": {
        "id": "7xDqGMMCHLFQ",
        "colab_type": "code",
        "colab": {}
      },
      "source": [
        "-- END ---"
      ],
      "execution_count": 0,
      "outputs": []
    }
  ]
}